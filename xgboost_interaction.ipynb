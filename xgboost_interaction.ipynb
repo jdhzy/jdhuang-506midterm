{
 "cells": [
  {
   "cell_type": "markdown",
   "metadata": {},
   "source": [
    "# Libraries"
   ]
  },
  {
   "cell_type": "code",
   "execution_count": 26,
   "metadata": {},
   "outputs": [],
   "source": [
    "import pickle\n",
    "import pandas as pd\n",
    "import numpy as np\n",
    "import seaborn as sns\n",
    "from os.path import exists\n",
    "import matplotlib.pyplot as plt\n",
    "from sklearn.neighbors import KNeighborsClassifier\n",
    "from sklearn.model_selection import train_test_split\n",
    "from sklearn.metrics import accuracy_score, confusion_matrix\n",
    "import dask.dataframe as dd"
   ]
  },
  {
   "cell_type": "markdown",
   "metadata": {},
   "source": [
    "# Loading the Files\n",
    "\n",
    "Download the csv files into the `data/` directory."
   ]
  },
  {
   "cell_type": "code",
   "execution_count": 27,
   "metadata": {},
   "outputs": [
    {
     "name": "stdout",
     "output_type": "stream",
     "text": [
      "train.csv shape is  (1697533, 9)\n",
      "test.csv shape is  (212192, 2)\n",
      "\n",
      "        Id   ProductId          UserId  HelpfulnessNumerator  \\\n",
      "0   914403  B0009W5KHM   AV6QDP8Q0ONK4                     2   \n",
      "1   354887  6303079709  A2I8RXJN80A2D2                     0   \n",
      "2  1407653  B004H0M2XC  A3FHV3RV8Z12E6                     0   \n",
      "3  1377458  B003ZJ9536  A12VLTA3ZHVPUY                     1   \n",
      "4   475323  630574453X  A13NM1PES9OXVN                     2   \n",
      "\n",
      "   HelpfulnessDenominator        Time  \\\n",
      "0                       2  1341014400   \n",
      "1                       0  1168819200   \n",
      "2                       0  1386201600   \n",
      "3                       1  1348704000   \n",
      "4                       3   970012800   \n",
      "\n",
      "                                         Summary  \\\n",
      "0                                  GOOD FUN FILM   \n",
      "1                                   Movie Review   \n",
      "2             When is it a good time to Consent?   \n",
      "3                                          TRUTH   \n",
      "4  Intelligent and bittersweet -- stays with you   \n",
      "\n",
      "                                                Text  Score  \n",
      "0  While most straight to DVD films are not worth...    5.0  \n",
      "1  I have wanted this one for sometime, also.  I ...    5.0  \n",
      "2  Actually this was a pretty darn good indie fil...    4.0  \n",
      "3  Episodes 37 to 72 of the series press on in a ...    5.0  \n",
      "4  I was really impressed with this movie, but wa...    3.0  \n",
      "\n",
      "        Id  Score\n",
      "0  1323432    NaN\n",
      "1  1137299    NaN\n",
      "2  1459366    NaN\n",
      "3   931601    NaN\n",
      "4  1311995    NaN\n",
      "\n",
      "                 Id  HelpfulnessNumerator  HelpfulnessDenominator  \\\n",
      "count  1.697533e+06          1.697533e+06            1.697533e+06   \n",
      "mean   8.487660e+05          3.569048e+00            5.301422e+00   \n",
      "std    4.900357e+05          1.727883e+01            2.024445e+01   \n",
      "min    0.000000e+00          0.000000e+00            0.000000e+00   \n",
      "25%    4.243830e+05          0.000000e+00            0.000000e+00   \n",
      "50%    8.487660e+05          1.000000e+00            1.000000e+00   \n",
      "75%    1.273149e+06          3.000000e+00            5.000000e+00   \n",
      "max    1.697532e+06          6.084000e+03            6.510000e+03   \n",
      "\n",
      "               Time         Score  \n",
      "count  1.697533e+06  1.485341e+06  \n",
      "mean   1.262422e+09  4.110517e+00  \n",
      "std    1.289277e+08  1.197651e+00  \n",
      "min    8.793792e+08  1.000000e+00  \n",
      "25%    1.164413e+09  4.000000e+00  \n",
      "50%    1.307491e+09  5.000000e+00  \n",
      "75%    1.373242e+09  5.000000e+00  \n",
      "max    1.406074e+09  5.000000e+00  \n"
     ]
    },
    {
     "data": {
      "image/png": "[encoded data removed]",
      "text/plain": [
       "<Figure size 640x480 with 1 Axes>"
      ]
     },
     "metadata": {},
     "output_type": "display_data"
    },
    {
     "name": "stdout",
     "output_type": "stream",
     "text": [
      "\n",
      "EVERYTHING IS PROPERLY SET UP! YOU ARE READY TO START\n"
     ]
    }
   ],
   "source": [
    "trainingSet = dd.read_csv(\"train.csv\").compute()\n",
    "testingSet = dd.read_csv(\"test.csv\").compute()\n",
    "\n",
    "print(\"train.csv shape is \", trainingSet.shape)\n",
    "print(\"test.csv shape is \", testingSet.shape)\n",
    "\n",
    "print()\n",
    "\n",
    "print(trainingSet.head())\n",
    "print()\n",
    "print(testingSet.head())\n",
    "\n",
    "print()\n",
    "\n",
    "print(trainingSet.describe())\n",
    "\n",
    "trainingSet['Score'].value_counts().plot(kind='bar', legend=True, alpha=.5)\n",
    "plt.show()\n",
    "\n",
    "print()\n",
    "print(\"EVERYTHING IS PROPERLY SET UP! YOU ARE READY TO START\")"
   ]
  },
  {
   "cell_type": "markdown",
   "metadata": {},
   "source": [
    "# Adding Features"
   ]
  },
  {
   "cell_type": "code",
   "execution_count": 28,
   "metadata": {},
   "outputs": [],
   "source": [
    "from sklearn.preprocessing import StandardScaler\n",
    "import pandas as pd\n",
    "from textblob import TextBlob\n",
    "\n",
    "def add_features_to(df, include_sentiment=True):\n",
    "    # Handle missing values in 'HelpfulnessNumerator' and 'HelpfulnessDenominator'\n",
    "    if 'HelpfulnessNumerator' in df.columns and 'HelpfulnessDenominator' in df.columns:\n",
    "        df['HelpfulnessNumerator'] = df['HelpfulnessNumerator'].fillna(0)\n",
    "        df['HelpfulnessDenominator'] = df['HelpfulnessDenominator'].fillna(1)  # Avoid division by zero\n",
    "        df['HelpfulnessRatio'] = df['HelpfulnessNumerator'] / df['HelpfulnessDenominator']\n",
    "        df = df.drop(columns=['HelpfulnessNumerator', 'HelpfulnessDenominator'])\n",
    "\n",
    "    # Handle missing values in the 'Text' column\n",
    "    df['Text'] = df['Text'].fillna('')\n",
    "\n",
    "    # Vectorized ReviewWordCount and ReviewCharCount\n",
    "    df['ReviewWordCount'] = df['Text'].str.split().str.len()\n",
    "    df['ReviewCharCount'] = df['Text'].str.len()\n",
    "\n",
    "    # Optional Sentiment Analysis Features\n",
    "    if include_sentiment:\n",
    "        def get_sentiment(text):\n",
    "            blob = TextBlob(text)\n",
    "            return blob.sentiment.polarity, blob.sentiment.subjectivity\n",
    "\n",
    "        df[['Polarity', 'Subjectivity']] = df['Text'].apply(lambda x: pd.Series(get_sentiment(x)))\n",
    "\n",
    "    # Additional Length and Uniqueness Features\n",
    "    df['AvgWordLength'] = df['ReviewCharCount'] / (df['ReviewWordCount'] + 1e-5)  # Avoid div by zero\n",
    "    df['UniqueWordCount'] = df['Text'].str.split().apply(set).str.len()\n",
    "    df['UniqueWordRatio'] = df['UniqueWordCount'] / (df['ReviewWordCount'] + 1e-5)\n",
    "\n",
    "    # Helpfulness Flag\n",
    "    df['IsHelpful'] = (df['HelpfulnessRatio'] >= 0.5).astype(int)\n",
    "\n",
    "    # Grouped Statistics for Product and Reviewer\n",
    "    if 'ProductId' in df.columns and 'Score' in df.columns:\n",
    "        product_stats = df.groupby('ProductId')['Score'].agg(\n",
    "            ProductAvgRating='mean', ProductReviewCount='count'\n",
    "        )\n",
    "        df = df.merge(product_stats, on='ProductId', how='left')\n",
    "\n",
    "    if 'UserId' in df.columns and 'Score' in df.columns:\n",
    "        reviewer_stats = df.groupby('UserId')['Score'].agg(\n",
    "            ReviewerAvgRating='mean', ReviewerReviewCount='count'\n",
    "        )\n",
    "        df = df.merge(reviewer_stats, on='UserId', how='left')\n",
    "\n",
    "    # Add interaction terms\n",
    "    df['HelpfulnessRatio_x_Polarity'] = df['HelpfulnessRatio'] * df['Polarity']\n",
    "    df['HelpfulnessRatio_x_Subjectivity'] = df['HelpfulnessRatio'] * df['Subjectivity']\n",
    "    df['Polarity_x_ReviewerReviewCount'] = df['Polarity'] * df['ReviewerReviewCount']\n",
    "\n",
    "    # Normalize Numeric Metadata Features\n",
    "    numeric_features = [\n",
    "        'HelpfulnessRatio', 'ReviewWordCount', 'ReviewCharCount', 'AvgWordLength', \n",
    "        'UniqueWordRatio', 'Polarity', 'Subjectivity', 'ProductAvgRating', \n",
    "        'ProductReviewCount', 'ReviewerAvgRating', 'ReviewerReviewCount',\n",
    "        'HelpfulnessRatio_x_Polarity', 'HelpfulnessRatio_x_Subjectivity', \n",
    "        'Polarity_x_ReviewerReviewCount'\n",
    "    ]\n",
    "    \n",
    "    # Check if numeric features exist before scaling\n",
    "    available_features = [feat for feat in numeric_features if feat in df.columns]\n",
    "    scaler = StandardScaler()\n",
    "    df[available_features] = scaler.fit_transform(df[available_features].fillna(0))\n",
    "\n",
    "    # Drop unused columns\n",
    "    df = df.drop(['Time', 'Summary'], axis=1, errors='ignore')\n",
    "    \n",
    "    return df"
   ]
  },
  {
   "cell_type": "code",
   "execution_count": 29,
   "metadata": {},
   "outputs": [],
   "source": [
    "# Load the feature extracted files if they've already been generated\n",
    "if exists('X_train.csv'):\n",
    "    X_train = pd.read_csv(\"X_train.csv\")\n",
    "if exists('X_submission.csv'):\n",
    "    X_submission = pd.read_csv(\"X_submission.csv\")\n",
    "\n",
    "else:\n",
    "    # Step 1: Apply feature engineering to the entire trainingSet\n",
    "    full_train_with_features = add_features_to(trainingSet)\n",
    "\n",
    "    # Step 2: Sample 20% from the engineered full_train_with_features to create X_train\n",
    "    sampled_trainingSet = full_train_with_features.sample(frac=0.20, random_state=42)\n",
    "    X_train = sampled_trainingSet  # This is used for model training\n",
    "\n",
    "    # Step 3: Create X_submission by merging with testingSet on 'Id'\n",
    "    X_submission = pd.merge(full_train_with_features, testingSet, left_on='Id', right_on='Id', how='right')\n",
    "    X_submission = X_submission.drop(columns=['Score_x'], errors='ignore').rename(columns={'Score_y': 'Score'})\n",
    "\n",
    "    # Step 4: Save processed X_train and X_submission for future use\n",
    "    X_submission.to_csv(\"X_submission.csv\", index=False)\n",
    "    X_train.to_csv(\"X_train.csv\", index=False)"
   ]
  },
  {
   "cell_type": "markdown",
   "metadata": {},
   "source": [
    "# Data Processing-- Model Building"
   ]
  },
  {
   "cell_type": "markdown",
   "metadata": {},
   "source": [
    "TF-IDF Vectorization"
   ]
  },
  {
   "cell_type": "code",
   "execution_count": 30,
   "metadata": {},
   "outputs": [],
   "source": [
    "from sklearn.feature_extraction.text import TfidfVectorizer\n",
    "from sklearn.decomposition import TruncatedSVD\n",
    "import pandas as pd\n",
    "\n",
    "def TFIDF_Vectorization(df):\n",
    "    df['Text'] = df['Text'].fillna('')\n",
    "    # Create TF-IDF vectorizer and fit it on the entire dataset\n",
    "    tfidf_vectorizer = TfidfVectorizer(stop_words='english', max_features=1000, min_df=10, max_df=0.7)\n",
    "    # Fit the vectorizer on the 'Text' column to capture the vocabulary and transform the text\n",
    "    tfidf_matrix = tfidf_vectorizer.fit_transform(df['Text'])\n",
    "    print(\"TF-IDF vectorizer fitting completed!\")\n",
    "    return tfidf_matrix\n",
    "\n",
    "def svd(matrix):\n",
    "    # Apply Truncated SVD to reduce the dimensionality of the TF-IDF matrix\n",
    "    n_components = 100  # You can adjust this number as needed\n",
    "    svd = TruncatedSVD(n_components=n_components, random_state=42)  \n",
    "    reduced = svd.fit_transform(matrix)\n",
    "    print(f\"Dimensionality reduced to {n_components} components using Truncated SVD.\")\n",
    "    return reduced"
   ]
  },
  {
   "cell_type": "code",
   "execution_count": 31,
   "metadata": {},
   "outputs": [
    {
     "name": "stdout",
     "output_type": "stream",
     "text": [
      "TF-IDF vectorizer fitting completed!\n",
      "Dimensionality reduced to 100 components using Truncated SVD.\n",
      "X_train with TF-IDF features is procssed\n"
     ]
    }
   ],
   "source": [
    "# Step 1: Generate the TF-IDF matrix and apply SVD\n",
    "tfidf_matrix = TFIDF_Vectorization(X_train)\n",
    "tfidf_reduced = svd(tfidf_matrix)\n",
    "\n",
    "# Step 2: Convert the reduced TF-IDF matrix to a DataFrame\n",
    "tfidf_features = [f'TFIDF_{i}' for i in range(tfidf_reduced.shape[1])]  # Create column names\n",
    "tfidf_reduced_df = pd.DataFrame(tfidf_reduced, columns=tfidf_features, index=X_train.index)\n",
    "\n",
    "# Step 3: Concatenate the reduced TF-IDF features back into X_train\n",
    "X_train = pd.concat([X_train.reset_index(drop=True), tfidf_reduced_df.reset_index(drop=True)], axis=1)\n",
    "\n",
    "# Now X_train includes the vectorized text columns as TF-IDF features\n",
    "print(\"X_train with TF-IDF features is procssed\")"
   ]
  },
  {
   "cell_type": "code",
   "execution_count": 32,
   "metadata": {},
   "outputs": [
    {
     "name": "stdout",
     "output_type": "stream",
     "text": [
      "Feature scaling, selection, and train-test split completed!\n",
      "X_train shape: (254630, 109)\n",
      "X_test shape: (84877, 109)\n",
      "y_train shape: (254630,)\n",
      "y_test shape: (84877,)\n"
     ]
    }
   ],
   "source": [
    "from sklearn.model_selection import train_test_split\n",
    "from sklearn.preprocessing import StandardScaler\n",
    "import pandas as pd\n",
    "\n",
    "# Step 1: Define Metadata Features to Include\n",
    "numeric_metadata_features = [\n",
    "    'HelpfulnessRatio', 'ProductAvgRating', 'ProductReviewCount', 'ReviewerAvgRating', 'Polarity', 'Subjectivity',\n",
    "    'HelpfulnessRatio_x_Polarity', 'HelpfulnessRatio_x_Subjectivity', \n",
    "    'Polarity_x_ReviewerReviewCount'  # Interaction terms already added\n",
    "]\n",
    "\n",
    "# Step 2: Select and Scale All Features\n",
    "# Combine numeric metadata and TF-IDF features\n",
    "numeric_metadata_df = X_train[numeric_metadata_features]  # Use existing features in X_train\n",
    "tfidf_reduced_df = pd.DataFrame(tfidf_reduced, columns=[f\"TFIDF_{i}\" for i in range(tfidf_reduced.shape[1])])\n",
    "\n",
    "# Concatenate metadata and TF-IDF reduced DataFrames\n",
    "X_combined = pd.concat([numeric_metadata_df.reset_index(drop=True), tfidf_reduced_df.reset_index(drop=True)], axis=1)\n",
    "\n",
    "# Apply StandardScaler to all features in X_combined\n",
    "scaler = StandardScaler()\n",
    "X_scaled = scaler.fit_transform(X_combined)\n",
    "\n",
    "# Convert the scaled array back to a DataFrame\n",
    "X_scaled_df = pd.DataFrame(X_scaled, columns=X_combined.columns)\n",
    "\n",
    "# Step 3: Define the Target Variable\n",
    "y = X_train['Score'].fillna(X_train['Score'].median())  # Handle missing values in the target\n",
    "\n",
    "# Step 4: Train-Test Split\n",
    "X_train, X_test, y_train, y_test = train_test_split(X_scaled_df, y, test_size=0.25, random_state=42)\n",
    "\n",
    "# Confirm Completion\n",
    "print(\"Feature scaling, selection, and train-test split completed!\")\n",
    "print(\"X_train shape:\", X_train.shape)\n",
    "print(\"X_test shape:\", X_test.shape)\n",
    "print(\"y_train shape:\", y_train.shape)\n",
    "print(\"y_test shape:\", y_test.shape)"
   ]
  },
  {
   "cell_type": "code",
   "execution_count": 41,
   "metadata": {},
   "outputs": [
    {
     "name": "stdout",
     "output_type": "stream",
     "text": [
      "NaN values in numerical columns have been filled with median.\n"
     ]
    }
   ],
   "source": [
    "# Impute NaN values with median for all numeric columns\n",
    "numeric_columns = X_train.select_dtypes(include=['float64', 'int']).columns\n",
    "\n",
    "# Fill NaN values in X_train\n",
    "X_train[numeric_columns] = X_train[numeric_columns].fillna(X_train[numeric_columns].median())\n",
    "\n",
    "# Fill NaN values in X_test (or any test data)\n",
    "X_test[numeric_columns] = X_test[numeric_columns].fillna(X_train[numeric_columns].median())  # Using training median\n",
    "\n",
    "print(\"NaN values in numerical columns have been filled with median.\")"
   ]
  },
  {
   "cell_type": "markdown",
   "metadata": {},
   "source": [
    "# Model Creation"
   ]
  },
  {
   "cell_type": "code",
   "execution_count": 42,
   "metadata": {},
   "outputs": [
    {
     "name": "stdout",
     "output_type": "stream",
     "text": [
      "XGBoost Model Training and Prediction Completed!\n"
     ]
    }
   ],
   "source": [
    "import xgboost as xgb\n",
    "\n",
    "# Initialize the XGBoost model\n",
    "xgb_model = xgb.XGBRegressor(objective='reg:squarederror', random_state=42)\n",
    "\n",
    "# Train the model on the training data\n",
    "xgb_model.fit(X_train, y_train)\n",
    "\n",
    "# Predict the scores on the test data\n",
    "y_test_pred = xgb_model.predict(X_test)\n",
    "\n",
    "print(\"XGBoost Model Training and Prediction Completed!\")"
   ]
  },
  {
   "cell_type": "code",
   "execution_count": 43,
   "metadata": {},
   "outputs": [
    {
     "name": "stdout",
     "output_type": "stream",
     "text": [
      "Fitting 3 folds for each of 20 candidates, totalling 60 fits\n"
     ]
    }
   ],
   "source": [
    "from sklearn.model_selection import RandomizedSearchCV\n",
    "\n",
    "param_distributions = {\n",
    "    'learning_rate': [0.01, 0.05, 0.1],\n",
    "    'n_estimators': [100, 200, 300],\n",
    "    'max_depth': [3, 5, 7],\n",
    "    'min_child_weight': [1, 3, 5],\n",
    "}\n",
    "\n",
    "random_search = RandomizedSearchCV(xgb_model, param_distributions, n_iter=20, cv=3, scoring='neg_mean_squared_error', verbose=1, random_state=42)\n",
    "random_search.fit(X_train, y_train)\n",
    "\n",
    "# Get the best model\n",
    "best_xgb_model = random_search.best_estimator_"
   ]
  },
  {
   "cell_type": "code",
   "execution_count": 44,
   "metadata": {},
   "outputs": [],
   "source": [
    "model = best_xgb_model\n",
    "\n",
    "# Make predictions with the best model\n",
    "y_test_pred = model.predict(X_test)\n",
    "\n",
    "# Round the predictions to the nearest integer\n",
    "y_test_pred = np.round(y_test_pred).astype(int)\n",
    "\n",
    "# Adjust predictions by adding 1 if the labels are in the 0-4 range\n",
    "y_test_pred = np.clip(y_test_pred + 1, 1, 5)"
   ]
  },
  {
   "cell_type": "markdown",
   "metadata": {},
   "source": [
    "# Model Evaluation"
   ]
  },
  {
   "cell_type": "code",
   "execution_count": 45,
   "metadata": {},
   "outputs": [
    {
     "name": "stdout",
     "output_type": "stream",
     "text": [
      "Accuracy on testing set =  0.5870848404161316\n"
     ]
    },
    {
     "data": {
      "image/png": "[encoded data removed]",
      "text/plain": [
       "<Figure size 640x480 with 2 Axes>"
      ]
     },
     "metadata": {},
     "output_type": "display_data"
    }
   ],
   "source": [
    "# Evaluate your model on the testing set\n",
    "print(\"Accuracy on testing set = \", accuracy_score(y_test, y_test_pred))\n",
    "\n",
    "# Plot a confusion matrix\n",
    "cm = confusion_matrix(y_test, y_test_pred, normalize='true')\n",
    "sns.heatmap(cm, annot=True)\n",
    "plt.title('Confusion matrix of the classifier')\n",
    "plt.xlabel('Predicted')\n",
    "plt.ylabel('True')\n",
    "plt.show()"
   ]
  },
  {
   "cell_type": "markdown",
   "metadata": {},
   "source": [
    "# Create submission file"
   ]
  },
  {
   "cell_type": "code",
   "execution_count": 46,
   "metadata": {},
   "outputs": [
    {
     "name": "stdout",
     "output_type": "stream",
     "text": [
      "TF-IDF vectorizer fitting completed!\n",
      "Dimensionality reduced to 100 components using Truncated SVD.\n",
      "X_submission with TF-IDF features:         Id   ProductId          UserId  \\\n",
      "0  1323432  B0034G4P30  A120UTHQDQIJGH   \n",
      "1  1137299  B0012IWO0I  A3SJBFCTJWBFT2   \n",
      "2  1459366  B005FUTBSC  A1V6FRU7EXP6N9   \n",
      "3   931601  B000AREXBU   ARXDDR76Z5Q2I   \n",
      "4  1311995  B002ZG99B8   A2XAS9GVZL3B1   \n",
      "\n",
      "                                                Text  HelpfulnessRatio  \\\n",
      "0  This movie was just alright for me. I think pe...         -0.953032   \n",
      "1  My kids love this movie.  Exciting and fun to ...          1.431414   \n",
      "2  The effects were good, not the best but far fr...         -0.953032   \n",
      "3  I just got a copy of this S. Korean dvd of \"He...          1.431414   \n",
      "4  OK, to put this clearly and bluntly... if you ...          1.431414   \n",
      "\n",
      "   ReviewWordCount  ReviewCharCount  Polarity  Subjectivity  AvgWordLength  \\\n",
      "0        -0.012424        -0.071850  0.473931     -0.265934      -0.636208   \n",
      "1        -0.688244        -0.681018  0.841696     -0.090523      -0.550836   \n",
      "2        -0.668796        -0.664329  0.270279      1.464283      -0.652140   \n",
      "3        -0.377075        -0.398130  1.442213      0.323288      -0.555656   \n",
      "4        -0.260386        -0.309676 -0.623695     -0.852429      -0.952301   \n",
      "\n",
      "   ...  UniqueWordRatio  IsHelpful  ProductAvgRating  ProductReviewCount  \\\n",
      "0  ...        -0.741211          0          0.045069            0.828419   \n",
      "1  ...         1.411337          1          0.379297           -0.286050   \n",
      "2  ...         0.800894          0         -3.280031           -0.658920   \n",
      "3  ...        -0.410303          1          0.834773           -0.671349   \n",
      "4  ...        -0.744056          1         -2.377121            0.347830   \n",
      "\n",
      "   ReviewerAvgRating  ReviewerReviewCount  HelpfulnessRatio_x_Polarity  \\\n",
      "0          -2.111364            -0.293927                    -0.593958   \n",
      "1           0.252040            -0.340599                     2.423547   \n",
      "2           0.413063            -0.358550                    -0.593958   \n",
      "3          -0.166620            -0.380091                     3.374899   \n",
      "4           1.173092            -0.372910                     0.102044   \n",
      "\n",
      "   HelpfulnessRatio_x_Subjectivity  Polarity_x_ReviewerReviewCount  Score  \n",
      "0                        -0.912733                       -0.140075      4  \n",
      "1                         1.352181                       -0.191056      5  \n",
      "2                        -0.912733                       -0.255739      4  \n",
      "3                         1.599044                       -0.254962      5  \n",
      "4                         0.897657                       -0.306790      5  \n",
      "\n",
      "[5 rows x 21 columns]\n"
     ]
    }
   ],
   "source": [
    "# TF-IDF X_submission\n",
    "# Step 1: Generate the TF-IDF matrix and apply SVD\n",
    "tfidf_matrix = TFIDF_Vectorization(X_submission)\n",
    "tfidf_reduced = svd(tfidf_matrix)\n",
    "\n",
    "# Step 2: Convert the reduced TF-IDF matrix to a DataFrame\n",
    "tfidf_features = [f'TFIDF_{i}' for i in range(tfidf_reduced.shape[1])]  # Create column names\n",
    "tfidf_reduced_df = pd.DataFrame(tfidf_reduced, columns=tfidf_features, index=X_submission.index)\n",
    "\n",
    "# Step 3: Concatenate the reduced TF-IDF features back into X_train\n",
    "X_submission_select = pd.concat([X_submission.reset_index(drop=True), tfidf_reduced_df.reset_index(drop=True)], axis=1)\n",
    "\n",
    "# Now X_train includes the vectorized text columns as TF-IDF features\n",
    "print(\"X_submission with TF-IDF features:\", X_submission.head())"
   ]
  },
  {
   "cell_type": "code",
   "execution_count": 38,
   "metadata": {},
   "outputs": [
    {
     "data": {
      "text/plain": [
       "Index(['Id', 'ProductId', 'UserId', 'Text', 'HelpfulnessRatio',\n",
       "       'ReviewWordCount', 'ReviewCharCount', 'Polarity', 'Subjectivity',\n",
       "       'AvgWordLength',\n",
       "       ...\n",
       "       'TFIDF_90', 'TFIDF_91', 'TFIDF_92', 'TFIDF_93', 'TFIDF_94', 'TFIDF_95',\n",
       "       'TFIDF_96', 'TFIDF_97', 'TFIDF_98', 'TFIDF_99'],\n",
       "      dtype='object', length=121)"
      ]
     },
     "execution_count": 38,
     "metadata": {},
     "output_type": "execute_result"
    }
   ],
   "source": [
    "X_submission_select.columns"
   ]
  },
  {
   "cell_type": "code",
   "execution_count": 39,
   "metadata": {},
   "outputs": [],
   "source": [
    "features = X_test.columns\n",
    "\n",
    "X_submission_select = X_submission_select[features]"
   ]
  },
  {
   "cell_type": "code",
   "execution_count": 40,
   "metadata": {},
   "outputs": [
    {
     "name": "stdout",
     "output_type": "stream",
     "text": [
      "submission file created\n"
     ]
    }
   ],
   "source": [
    "# Create the submission file with discrete scores\n",
    "X_submission['Score'] = model.predict(X_submission_select)\n",
    "\n",
    "# Round the predictions to the nearest integer and clip them to the valid score range (e.g., 1 to 5)\n",
    "X_submission['Score'] = X_submission['Score'].round().clip(1, 5).astype(int)\n",
    "\n",
    "# Prepare the final submission DataFrame\n",
    "submission = X_submission[['Id', 'Score']]\n",
    "submission.to_csv(\"submission.csv\", index=False)\n",
    "print(\"submission file created\")"
   ]
  }
 ],
 "metadata": {
  "kernelspec": {
   "display_name": "Python 3",
   "language": "python",
   "name": "python3"
  },
  "language_info": {
   "codemirror_mode": {
    "name": "ipython",
    "version": 3
   },
   "file_extension": ".py",
   "mimetype": "text/x-python",
   "name": "python",
   "nbconvert_exporter": "python",
   "pygments_lexer": "ipython3",
   "version": "3.11.1"
  }
 },
 "nbformat": 4,
 "nbformat_minor": 2
}
