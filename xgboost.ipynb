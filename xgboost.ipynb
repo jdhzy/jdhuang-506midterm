{
 "cells": [
  {
   "cell_type": "markdown",
   "metadata": {},
   "source": [
    "# Libraries"
   ]
  },
  {
   "cell_type": "code",
   "execution_count": 1,
   "metadata": {},
   "outputs": [],
   "source": [
    "import pandas as pd\n",
    "import numpy as np\n",
    "import matplotlib.pyplot as plt\n",
    "from sklearn.feature_extraction.text import TfidfVectorizer\n",
    "from sklearn.model_selection import train_test_split\n",
    "from sklearn.metrics import mean_squared_error\n",
    "import xgboost as xgb"
   ]
  },
  {
   "cell_type": "markdown",
   "metadata": {},
   "source": [
    "# Loading the Files\n",
    "\n",
    "Download the csv files into the `data/` directory."
   ]
  },
  {
   "cell_type": "code",
   "execution_count": 2,
   "metadata": {},
   "outputs": [
    {
     "name": "stdout",
     "output_type": "stream",
     "text": [
      "train.csv shape is  (1697533, 9)\n",
      "test.csv shape is  (212192, 2)\n",
      "\n",
      "        Id   ProductId          UserId  HelpfulnessNumerator  \\\n",
      "0   914403  B0009W5KHM   AV6QDP8Q0ONK4                     2   \n",
      "1   354887  6303079709  A2I8RXJN80A2D2                     0   \n",
      "2  1407653  B004H0M2XC  A3FHV3RV8Z12E6                     0   \n",
      "3  1377458  B003ZJ9536  A12VLTA3ZHVPUY                     1   \n",
      "4   475323  630574453X  A13NM1PES9OXVN                     2   \n",
      "\n",
      "   HelpfulnessDenominator        Time  \\\n",
      "0                       2  1341014400   \n",
      "1                       0  1168819200   \n",
      "2                       0  1386201600   \n",
      "3                       1  1348704000   \n",
      "4                       3   970012800   \n",
      "\n",
      "                                         Summary  \\\n",
      "0                                  GOOD FUN FILM   \n",
      "1                                   Movie Review   \n",
      "2             When is it a good time to Consent?   \n",
      "3                                          TRUTH   \n",
      "4  Intelligent and bittersweet -- stays with you   \n",
      "\n",
      "                                                Text  Score  \n",
      "0  While most straight to DVD films are not worth...    5.0  \n",
      "1  I have wanted this one for sometime, also.  I ...    5.0  \n",
      "2  Actually this was a pretty darn good indie fil...    4.0  \n",
      "3  Episodes 37 to 72 of the series press on in a ...    5.0  \n",
      "4  I was really impressed with this movie, but wa...    3.0  \n",
      "\n",
      "        Id  Score\n",
      "0  1323432    NaN\n",
      "1  1137299    NaN\n",
      "2  1459366    NaN\n",
      "3   931601    NaN\n",
      "4  1311995    NaN\n",
      "\n",
      "                 Id  HelpfulnessNumerator  HelpfulnessDenominator  \\\n",
      "count  1.697533e+06          1.697533e+06            1.697533e+06   \n",
      "mean   8.487660e+05          3.569048e+00            5.301422e+00   \n",
      "std    4.900357e+05          1.727883e+01            2.024445e+01   \n",
      "min    0.000000e+00          0.000000e+00            0.000000e+00   \n",
      "25%    4.243830e+05          0.000000e+00            0.000000e+00   \n",
      "50%    8.487660e+05          1.000000e+00            1.000000e+00   \n",
      "75%    1.273149e+06          3.000000e+00            5.000000e+00   \n",
      "max    1.697532e+06          6.084000e+03            6.510000e+03   \n",
      "\n",
      "               Time         Score  \n",
      "count  1.697533e+06  1.485341e+06  \n",
      "mean   1.262422e+09  4.110517e+00  \n",
      "std    1.289277e+08  1.197651e+00  \n",
      "min    8.793792e+08  1.000000e+00  \n",
      "25%    1.164413e+09  4.000000e+00  \n",
      "50%    1.307491e+09  5.000000e+00  \n",
      "75%    1.373242e+09  5.000000e+00  \n",
      "max    1.406074e+09  5.000000e+00  \n"
     ]
    },
    {
     "data": {
      "image/png": "[encoded data removed]",
      "text/plain": [
       "<Figure size 640x480 with 1 Axes>"
      ]
     },
     "metadata": {},
     "output_type": "display_data"
    },
    {
     "name": "stdout",
     "output_type": "stream",
     "text": [
      "\n",
      "EVERYTHING IS PROPERLY SET UP! YOU ARE READY TO START\n",
      "\n"
     ]
    }
   ],
   "source": [
    "# Load the data\n",
    "trainingSet = pd.read_csv(\"train.csv\")\n",
    "testingSet = pd.read_csv(\"test.csv\")\n",
    "\n",
    "# Check the shape of both datasets\n",
    "print(\"train.csv shape is \", trainingSet.shape)\n",
    "print(\"test.csv shape is \", testingSet.shape)\n",
    "\n",
    "print()\n",
    "print(trainingSet.head())\n",
    "print()\n",
    "print(testingSet.head())\n",
    "print()\n",
    "print(trainingSet.describe())\n",
    "\n",
    "# Plot the distribution of 'Score'\n",
    "trainingSet['Score'].value_counts().plot(kind='bar', legend=True, alpha=.5)\n",
    "plt.title(\"Distribution of Scores in Training Data\")\n",
    "plt.xlabel(\"Score\")\n",
    "plt.ylabel(\"Frequency\")\n",
    "plt.show()\n",
    "\n",
    "print(\"\\nEVERYTHING IS PROPERLY SET UP! YOU ARE READY TO START\\n\")"
   ]
  },
  {
   "cell_type": "code",
   "execution_count": 3,
   "metadata": {},
   "outputs": [
    {
     "name": "stdout",
     "output_type": "stream",
     "text": [
      "Index(['Id', 'ProductId', 'UserId', 'HelpfulnessNumerator',\n",
      "       'HelpfulnessDenominator', 'Time', 'Summary', 'Text', 'Score'],\n",
      "      dtype='object')\n",
      "Index(['Id', 'Score'], dtype='object')\n"
     ]
    }
   ],
   "source": [
    "print(trainingSet.columns)\n",
    "print(testingSet.columns)\n"
   ]
  },
  {
   "cell_type": "markdown",
   "metadata": {},
   "source": [
    "# Adding Features"
   ]
  },
  {
   "cell_type": "code",
   "execution_count": 4,
   "metadata": {},
   "outputs": [],
   "source": [
    "def process_data(df, is_training=True):\n",
    "    if is_training:\n",
    "        # Check if 'HelpfulnessNumerator' and 'HelpfulnessDenominator' exist\n",
    "        if 'HelpfulnessNumerator' in df.columns and 'HelpfulnessDenominator' in df.columns:\n",
    "            # Handle missing values in 'HelpfulnessNumerator' and 'HelpfulnessDenominator'\n",
    "            df['HelpfulnessNumerator'] = df['HelpfulnessNumerator'].fillna(0)\n",
    "            df['HelpfulnessDenominator'] = df['HelpfulnessDenominator'].fillna(1)  # To avoid division by zero\n",
    "\n",
    "            # Create HelpfulnessRatio\n",
    "            df['HelpfulnessRatio'] = df['HelpfulnessNumerator'] / df['HelpfulnessDenominator']\n",
    "\n",
    "            # Drop unnecessary columns\n",
    "            df = df.drop(columns=['HelpfulnessNumerator', 'HelpfulnessDenominator'])\n",
    "        \n",
    "        # Handle missing values in the 'Text' column by replacing NaN with empty strings\n",
    "        df['Text'] = df['Text'].fillna('')\n",
    "\n",
    "        # Create ReviewWordCount and ReviewCharCount\n",
    "        df['ReviewWordCount'] = df['Text'].apply(lambda x: len(x.split()))  # Word count\n",
    "        df['ReviewCharCount'] = df['Text'].apply(lambda x: len(x))  # Character count\n",
    "\n",
    "        # Handle Time column (convert Unix timestamp to datetime, extract year and month)\n",
    "        df['Time'] = pd.to_datetime(df['Time'], unit='s')\n",
    "        df['Year'] = df['Time'].dt.year\n",
    "        df['Month'] = df['Time'].dt.month\n",
    "\n",
    "        # Create a 'Season' feature\n",
    "        def get_season(month):\n",
    "            if month in [12, 1, 2]:\n",
    "                return 'Winter'\n",
    "            elif month in [3, 4, 5]:\n",
    "                return 'Spring'\n",
    "            elif month in [6, 7, 8]:\n",
    "                return 'Summer'\n",
    "            else:\n",
    "                return 'Fall'\n",
    "\n",
    "        df['Season'] = df['Month'].apply(get_season)\n",
    "    \n",
    "    # Return the modified DataFrame\n",
    "    return df"
   ]
  },
  {
   "cell_type": "markdown",
   "metadata": {},
   "source": [
    "# Data Processing"
   ]
  },
  {
   "cell_type": "code",
   "execution_count": 5,
   "metadata": {},
   "outputs": [
    {
     "name": "stdout",
     "output_type": "stream",
     "text": [
      "Sampled and processed data shape: (339507, 12)\n"
     ]
    }
   ],
   "source": [
    "# Step 1: Randomly sample 20% of the dataset\n",
    "sampled_trainingSet = trainingSet.sample(frac=0.20, random_state=42)\n",
    "\n",
    "# Step 2: Process the sampled training set\n",
    "sampled_trainingSet = process_data(sampled_trainingSet, is_training=True)\n",
    "\n",
    "# Step 3: Drop the 'Summary' column since we're analyzing the full 'Text' column\n",
    "sampled_trainingSet = sampled_trainingSet.drop(columns=['Summary'])\n",
    "\n",
    "print(\"Sampled and processed data shape:\", sampled_trainingSet.shape)"
   ]
  },
  {
   "cell_type": "markdown",
   "metadata": {},
   "source": [
    "# Data Processing"
   ]
  },
  {
   "cell_type": "markdown",
   "metadata": {},
   "source": [
    "TF-IDF Vectorization"
   ]
  },
  {
   "cell_type": "code",
   "execution_count": 6,
   "metadata": {},
   "outputs": [
    {
     "name": "stdout",
     "output_type": "stream",
     "text": [
      "TF-IDF vectorizer fitting completed!\n",
      "Dimensionality reduced to 100 components using Truncated SVD.\n"
     ]
    }
   ],
   "source": [
    "from sklearn.feature_extraction.text import TfidfVectorizer\n",
    "from sklearn.decomposition import TruncatedSVD\n",
    "import pandas as pd\n",
    "\n",
    "# Create TF-IDF vectorizer and fit it on the entire dataset\n",
    "tfidf_vectorizer = TfidfVectorizer(stop_words='english', max_features=1000, min_df=10, max_df=0.7)\n",
    "\n",
    "# Fit the vectorizer on the 'Text' column to capture the vocabulary and transform the text\n",
    "tfidf_matrix = tfidf_vectorizer.fit_transform(sampled_trainingSet['Text'])\n",
    "\n",
    "print(\"TF-IDF vectorizer fitting completed!\")\n",
    "\n",
    "# Apply Truncated SVD to reduce the dimensionality of the TF-IDF matrix\n",
    "n_components = 100  # You can adjust this number as needed\n",
    "svd = TruncatedSVD(n_components=n_components, random_state=42)\n",
    "\n",
    "# Fit and transform the TF-IDF matrix with Truncated SVD\n",
    "tfidf_reduced = svd.fit_transform(tfidf_matrix)\n",
    "\n",
    "print(f\"Dimensionality reduced to {n_components} components using Truncated SVD.\")"
   ]
  },
  {
   "cell_type": "markdown",
   "metadata": {},
   "source": [
    "Train-test-split"
   ]
  },
  {
   "cell_type": "code",
   "execution_count": 7,
   "metadata": {},
   "outputs": [
    {
     "name": "stdout",
     "output_type": "stream",
     "text": [
      "Train-test split completed!\n"
     ]
    }
   ],
   "source": [
    "from sklearn.model_selection import train_test_split\n",
    "import pandas as pd\n",
    "\n",
    "# Metadata features to include (excluding 'Season' for one-hot encoding)\n",
    "numeric_metadata_features = ['HelpfulnessRatio', 'ReviewWordCount', 'ReviewCharCount']\n",
    "\n",
    "# One-hot encode the 'Season' column and convert it into 0/1 values\n",
    "season_encoded = pd.get_dummies(sampled_trainingSet['Season'], prefix='Season')\n",
    "\n",
    "# Combine numeric metadata with one-hot encoded 'Season'\n",
    "X_metadata = pd.concat([sampled_trainingSet[numeric_metadata_features], season_encoded], axis=1)\n",
    "\n",
    "# Combine the reduced TF-IDF matrix with metadata features\n",
    "X_combined = pd.concat([pd.DataFrame(tfidf_reduced), X_metadata.reset_index(drop=True)], axis=1)\n",
    "\n",
    "# Define the target variable\n",
    "y = sampled_trainingSet['Score'].fillna(sampled_trainingSet['Score'].median())  # Handle missing values in target\n",
    "\n",
    "# Train-Test Split\n",
    "X_train, X_test, y_train, y_test = train_test_split(X_combined, y, test_size=0.25, random_state=42)\n",
    "\n",
    "print(\"Train-test split completed!\")"
   ]
  },
  {
   "cell_type": "markdown",
   "metadata": {},
   "source": [
    "# Feature Selection"
   ]
  },
  {
   "cell_type": "code",
   "execution_count": 8,
   "metadata": {},
   "outputs": [],
   "source": [
    "# Assuming 'testingSet' is your submission dataset:\n",
    "X_submission = testingSet\n",
    "\n",
    "# If you need to process X_submission (like with 'process_data' function):\n",
    "X_submission = process_data(X_submission, is_training=False)\n"
   ]
  },
  {
   "cell_type": "markdown",
   "metadata": {},
   "source": [
    "# Model Creation"
   ]
  },
  {
   "cell_type": "markdown",
   "metadata": {},
   "source": [
    "Tune hyperparameters"
   ]
  },
  {
   "cell_type": "code",
   "execution_count": 10,
   "metadata": {},
   "outputs": [
    {
     "name": "stdout",
     "output_type": "stream",
     "text": [
      "XGBoost Model Training and Prediction Completed!\n"
     ]
    }
   ],
   "source": [
    "import xgboost as xgb\n",
    "\n",
    "# Initialize the XGBoost model\n",
    "xgb_model = xgb.XGBRegressor(objective='reg:squarederror', random_state=42)\n",
    "\n",
    "# Train the model on the training data\n",
    "xgb_model.fit(X_train, y_train)\n",
    "\n",
    "# Predict the scores on the test data\n",
    "y_test_pred = xgb_model.predict(X_test)\n",
    "\n",
    "print(\"XGBoost Model Training and Prediction Completed!\")"
   ]
  },
  {
   "cell_type": "code",
   "execution_count": 15,
   "metadata": {},
   "outputs": [
    {
     "name": "stdout",
     "output_type": "stream",
     "text": [
      "Fitting 3 folds for each of 20 candidates, totalling 60 fits\n"
     ]
    }
   ],
   "source": [
    "from sklearn.model_selection import RandomizedSearchCV\n",
    "\n",
    "param_distributions = {\n",
    "    'learning_rate': [0.01, 0.05, 0.1],\n",
    "    'n_estimators': [100, 200, 300],\n",
    "    'max_depth': [3, 5, 7],\n",
    "    'min_child_weight': [1, 3, 5],\n",
    "}\n",
    "\n",
    "random_search = RandomizedSearchCV(xgb_model, param_distributions, n_iter=20, cv=3, scoring='neg_mean_squared_error', verbose=1, random_state=42)\n",
    "random_search.fit(X_train, y_train)\n",
    "\n",
    "# Get the best model\n",
    "best_xgb_model = random_search.best_estimator_"
   ]
  },
  {
   "cell_type": "markdown",
   "metadata": {},
   "source": [
    "# Model Evaluation"
   ]
  },
  {
   "cell_type": "code",
   "execution_count": 16,
   "metadata": {},
   "outputs": [
    {
     "name": "stdout",
     "output_type": "stream",
     "text": [
      "Mean Squared Error (MSE) on testing set: 0.9125587811056091\n",
      "Mean Absolute Error (MAE) on testing set: 0.7120731724971818\n",
      "R-squared (R2) on testing set: 0.3252266943890144\n"
     ]
    },
    {
     "data": {
      "image/png": "[encoded data removed]",
      "text/plain": [
       "<Figure size 640x480 with 1 Axes>"
      ]
     },
     "metadata": {},
     "output_type": "display_data"
    }
   ],
   "source": [
    "from sklearn.metrics import mean_squared_error, mean_absolute_error, r2_score\n",
    "import matplotlib.pyplot as plt\n",
    "import numpy as np\n",
    "\n",
    "# Evaluate your model on the testing set\n",
    "mse = mean_squared_error(y_test, y_test_pred)\n",
    "mae = mean_absolute_error(y_test, y_test_pred)\n",
    "r2 = r2_score(y_test, y_test_pred)\n",
    "\n",
    "print(f\"Mean Squared Error (MSE) on testing set: {mse}\")\n",
    "print(f\"Mean Absolute Error (MAE) on testing set: {mae}\")\n",
    "print(f\"R-squared (R2) on testing set: {r2}\")\n",
    "\n",
    "# Plot the predicted vs actual values\n",
    "plt.scatter(y_test, y_test_pred, alpha=0.3)\n",
    "plt.plot([y_test.min(), y_test.max()], [y_test.min(), y_test.max()], '--r', linewidth=2)\n",
    "plt.title('Predicted vs. Actual Ratings')\n",
    "plt.xlabel('True Ratings')\n",
    "plt.ylabel('Predicted Ratings')\n",
    "plt.show()"
   ]
  },
  {
   "cell_type": "markdown",
   "metadata": {},
   "source": [
    "# Create submission file"
   ]
  },
  {
   "cell_type": "code",
   "execution_count": 23,
   "metadata": {},
   "outputs": [],
   "source": [
    "# Create the submission file\n",
    "X_submission['Score'] = model.predict(X_submission_select)\n",
    "submission = X_submission[['Id', 'Score']]\n",
    "submission.to_csv(\"./data/submission.csv\", index=False)"
   ]
  }
 ],
 "metadata": {
  "kernelspec": {
   "display_name": "Python 3",
   "language": "python",
   "name": "python3"
  },
  "language_info": {
   "codemirror_mode": {
    "name": "ipython",
    "version": 3
   },
   "file_extension": ".py",
   "mimetype": "text/x-python",
   "name": "python",
   "nbconvert_exporter": "python",
   "pygments_lexer": "ipython3",
   "version": "3.11.1"
  }
 },
 "nbformat": 4,
 "nbformat_minor": 2
}
