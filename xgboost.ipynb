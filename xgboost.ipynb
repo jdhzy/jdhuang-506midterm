{
 "cells": [
  {
   "cell_type": "markdown",
   "metadata": {},
   "source": [
    "# Libraries"
   ]
  },
  {
   "cell_type": "code",
   "execution_count": 81,
   "metadata": {},
   "outputs": [],
   "source": [
    "import pickle\n",
    "import pandas as pd\n",
    "import numpy as np\n",
    "import seaborn as sns\n",
    "from os.path import exists\n",
    "import matplotlib.pyplot as plt\n",
    "from sklearn.neighbors import KNeighborsClassifier\n",
    "from sklearn.model_selection import train_test_split\n",
    "from sklearn.metrics import accuracy_score, confusion_matrix\n",
    "import dask.dataframe as dd"
   ]
  },
  {
   "cell_type": "markdown",
   "metadata": {},
   "source": [
    "# Loading the Files\n",
    "\n",
    "Download the csv files into the `data/` directory."
   ]
  },
  {
   "cell_type": "code",
   "execution_count": 82,
   "metadata": {},
   "outputs": [
    {
     "name": "stdout",
     "output_type": "stream",
     "text": [
      "train.csv shape is  (1697533, 9)\n",
      "test.csv shape is  (212192, 2)\n",
      "\n",
      "        Id   ProductId          UserId  HelpfulnessNumerator  \\\n",
      "0   914403  B0009W5KHM   AV6QDP8Q0ONK4                     2   \n",
      "1   354887  6303079709  A2I8RXJN80A2D2                     0   \n",
      "2  1407653  B004H0M2XC  A3FHV3RV8Z12E6                     0   \n",
      "3  1377458  B003ZJ9536  A12VLTA3ZHVPUY                     1   \n",
      "4   475323  630574453X  A13NM1PES9OXVN                     2   \n",
      "\n",
      "   HelpfulnessDenominator        Time  \\\n",
      "0                       2  1341014400   \n",
      "1                       0  1168819200   \n",
      "2                       0  1386201600   \n",
      "3                       1  1348704000   \n",
      "4                       3   970012800   \n",
      "\n",
      "                                         Summary  \\\n",
      "0                                  GOOD FUN FILM   \n",
      "1                                   Movie Review   \n",
      "2             When is it a good time to Consent?   \n",
      "3                                          TRUTH   \n",
      "4  Intelligent and bittersweet -- stays with you   \n",
      "\n",
      "                                                Text  Score  \n",
      "0  While most straight to DVD films are not worth...    5.0  \n",
      "1  I have wanted this one for sometime, also.  I ...    5.0  \n",
      "2  Actually this was a pretty darn good indie fil...    4.0  \n",
      "3  Episodes 37 to 72 of the series press on in a ...    5.0  \n",
      "4  I was really impressed with this movie, but wa...    3.0  \n",
      "\n",
      "        Id  Score\n",
      "0  1323432    NaN\n",
      "1  1137299    NaN\n",
      "2  1459366    NaN\n",
      "3   931601    NaN\n",
      "4  1311995    NaN\n",
      "\n",
      "                 Id  HelpfulnessNumerator  HelpfulnessDenominator  \\\n",
      "count  1.697533e+06          1.697533e+06            1.697533e+06   \n",
      "mean   8.487660e+05          3.569048e+00            5.301422e+00   \n",
      "std    4.900357e+05          1.727883e+01            2.024445e+01   \n",
      "min    0.000000e+00          0.000000e+00            0.000000e+00   \n",
      "25%    4.243830e+05          0.000000e+00            0.000000e+00   \n",
      "50%    8.487660e+05          1.000000e+00            1.000000e+00   \n",
      "75%    1.273149e+06          3.000000e+00            5.000000e+00   \n",
      "max    1.697532e+06          6.084000e+03            6.510000e+03   \n",
      "\n",
      "               Time         Score  \n",
      "count  1.697533e+06  1.485341e+06  \n",
      "mean   1.262422e+09  4.110517e+00  \n",
      "std    1.289277e+08  1.197651e+00  \n",
      "min    8.793792e+08  1.000000e+00  \n",
      "25%    1.164413e+09  4.000000e+00  \n",
      "50%    1.307491e+09  5.000000e+00  \n",
      "75%    1.373242e+09  5.000000e+00  \n",
      "max    1.406074e+09  5.000000e+00  \n"
     ]
    },
    {
     "data": {
      "image/png": "[encoded data removed]",
      "text/plain": [
       "<Figure size 640x480 with 1 Axes>"
      ]
     },
     "metadata": {},
     "output_type": "display_data"
    },
    {
     "name": "stdout",
     "output_type": "stream",
     "text": [
      "\n",
      "EVERYTHING IS PROPERLY SET UP! YOU ARE READY TO START\n"
     ]
    }
   ],
   "source": [
    "trainingSet = dd.read_csv(\"train.csv\").compute()\n",
    "testingSet = dd.read_csv(\"test.csv\").compute()\n",
    "\n",
    "print(\"train.csv shape is \", trainingSet.shape)\n",
    "print(\"test.csv shape is \", testingSet.shape)\n",
    "\n",
    "print()\n",
    "\n",
    "print(trainingSet.head())\n",
    "print()\n",
    "print(testingSet.head())\n",
    "\n",
    "print()\n",
    "\n",
    "print(trainingSet.describe())\n",
    "\n",
    "trainingSet['Score'].value_counts().plot(kind='bar', legend=True, alpha=.5)\n",
    "plt.show()\n",
    "\n",
    "print()\n",
    "print(\"EVERYTHING IS PROPERLY SET UP! YOU ARE READY TO START\")"
   ]
  },
  {
   "cell_type": "markdown",
   "metadata": {},
   "source": [
    "# Adding Features"
   ]
  },
  {
   "cell_type": "code",
   "execution_count": 84,
   "metadata": {},
   "outputs": [],
   "source": [
    "from sklearn.preprocessing import StandardScaler\n",
    "import pandas as pd\n",
    "from textblob import TextBlob\n",
    "\n",
    "def add_features_to(df, include_sentiment=True):\n",
    "    # Handle missing values in 'HelpfulnessNumerator' and 'HelpfulnessDenominator'\n",
    "    if 'HelpfulnessNumerator' in df.columns and 'HelpfulnessDenominator' in df.columns:\n",
    "        df['HelpfulnessNumerator'] = df['HelpfulnessNumerator'].fillna(0)\n",
    "        df['HelpfulnessDenominator'] = df['HelpfulnessDenominator'].fillna(1)  # Avoid division by zero\n",
    "        df['HelpfulnessRatio'] = df['HelpfulnessNumerator'] / df['HelpfulnessDenominator']\n",
    "        df = df.drop(columns=['HelpfulnessNumerator', 'HelpfulnessDenominator'])\n",
    "\n",
    "    # Handle missing values in the 'Text' column\n",
    "    df['Text'] = df['Text'].fillna('')\n",
    "\n",
    "    # Vectorized ReviewWordCount and ReviewCharCount\n",
    "    df['ReviewWordCount'] = df['Text'].str.split().str.len()\n",
    "    df['ReviewCharCount'] = df['Text'].str.len()\n",
    "\n",
    "    # Optional Sentiment Analysis Features\n",
    "    if include_sentiment:\n",
    "        def get_sentiment(text):\n",
    "            blob = TextBlob(text)\n",
    "            return blob.sentiment.polarity, blob.sentiment.subjectivity\n",
    "\n",
    "        df[['Polarity', 'Subjectivity']] = df['Text'].apply(lambda x: pd.Series(get_sentiment(x)))\n",
    "\n",
    "    # Additional Length and Uniqueness Features\n",
    "    df['AvgWordLength'] = df['ReviewCharCount'] / df['ReviewWordCount']\n",
    "    df['UniqueWordCount'] = df['Text'].str.split().apply(set).str.len()\n",
    "    df['UniqueWordRatio'] = df['UniqueWordCount'] / df['ReviewWordCount']\n",
    "\n",
    "    # Helpfulness Flag\n",
    "    df['IsHelpful'] = (df['HelpfulnessRatio'] >= 0.5).astype(int)\n",
    "\n",
    "    # Grouped Statistics for Product and Reviewer\n",
    "    if 'ProductId' in df.columns and 'Score' in df.columns:\n",
    "        product_stats = df.groupby('ProductId')['Score'].agg(\n",
    "            ProductAvgRating='mean', ProductReviewCount='count'\n",
    "        )\n",
    "        df = df.merge(product_stats, on='ProductId', how='left')\n",
    "\n",
    "    if 'UserId' in df.columns and 'Score' in df.columns:\n",
    "        reviewer_stats = df.groupby('UserId')['Score'].agg(\n",
    "            ReviewerAvgRating='mean', ReviewerReviewCount='count'\n",
    "        )\n",
    "        df = df.merge(reviewer_stats, on='UserId', how='left')\n",
    "\n",
    "    # Normalize Numeric Metadata Features\n",
    "    numeric_features = [\n",
    "        'HelpfulnessRatio', 'ReviewWordCount', 'ReviewCharCount', 'AvgWordLength', \n",
    "        'UniqueWordRatio', 'Polarity', 'Subjectivity', 'ProductAvgRating', \n",
    "        'ProductReviewCount', 'ReviewerAvgRating', 'ReviewerReviewCount'\n",
    "    ]\n",
    "    \n",
    "    # Check if numeric features exist before scaling\n",
    "    available_features = [feat for feat in numeric_features if feat in df.columns]\n",
    "    scaler = StandardScaler()\n",
    "    df[available_features] = scaler.fit_transform(df[available_features].fillna(0))\n",
    "\n",
    "    # Drop unused columns\n",
    "    df = df.drop(['Time', 'Summary'], axis=1, errors='ignore')\n",
    "    \n",
    "    return df"
   ]
  },
  {
   "cell_type": "code",
   "execution_count": 100,
   "metadata": {},
   "outputs": [],
   "source": [
    "# Load the feature extracted files if they've already been generated\n",
    "if exists('X_train.csv'):\n",
    "    X_train = pd.read_csv(\"X_train.csv\")\n",
    "if exists('X_submission.csv'):\n",
    "    X_submission = pd.read_csv(\"X_submission.csv\")\n",
    "\n",
    "else:\n",
    "    # Step 1: Apply feature engineering to the entire trainingSet\n",
    "    full_train_with_features = add_features_to(trainingSet)\n",
    "\n",
    "    # Step 2: Sample 20% from the engineered full_train_with_features to create X_train\n",
    "    sampled_trainingSet = full_train_with_features.sample(frac=0.20, random_state=42)\n",
    "    X_train = sampled_trainingSet  # This is used for model training\n",
    "\n",
    "    # Step 3: Create X_submission by merging with testingSet on 'Id'\n",
    "    X_submission = pd.merge(full_train_with_features, testingSet, left_on='Id', right_on='Id', how='right')\n",
    "    X_submission = X_submission.drop(columns=['Score_x'], errors='ignore').rename(columns={'Score_y': 'Score'})\n",
    "\n",
    "    # Step 4: Save processed X_train and X_submission for future use\n",
    "    X_submission.to_csv(\"X_submission.csv\", index=False)\n",
    "    X_train.to_csv(\"X_train.csv\", index=False)"
   ]
  },
  {
   "cell_type": "markdown",
   "metadata": {},
   "source": [
    "# Data Processing-- Model Building"
   ]
  },
  {
   "cell_type": "markdown",
   "metadata": {},
   "source": [
    "TF-IDF Vectorization"
   ]
  },
  {
   "cell_type": "code",
   "execution_count": 101,
   "metadata": {},
   "outputs": [],
   "source": [
    "from sklearn.feature_extraction.text import TfidfVectorizer\n",
    "from sklearn.decomposition import TruncatedSVD\n",
    "import pandas as pd\n",
    "\n",
    "def TFIDF_Vectorization(df):\n",
    "    df['Text'] = df['Text'].fillna('')\n",
    "    # Create TF-IDF vectorizer and fit it on the entire dataset\n",
    "    tfidf_vectorizer = TfidfVectorizer(stop_words='english', max_features=1000, min_df=10, max_df=0.7)\n",
    "    # Fit the vectorizer on the 'Text' column to capture the vocabulary and transform the text\n",
    "    tfidf_matrix = tfidf_vectorizer.fit_transform(df['Text'])\n",
    "    print(\"TF-IDF vectorizer fitting completed!\")\n",
    "    return tfidf_matrix\n",
    "\n",
    "def svd(matrix):\n",
    "    # Apply Truncated SVD to reduce the dimensionality of the TF-IDF matrix\n",
    "    n_components = 100  # You can adjust this number as needed\n",
    "    svd = TruncatedSVD(n_components=n_components, random_state=42)  \n",
    "    reduced = svd.fit_transform(matrix)\n",
    "    print(f\"Dimensionality reduced to {n_components} components using Truncated SVD.\")\n",
    "    return reduced"
   ]
  },
  {
   "cell_type": "code",
   "execution_count": 102,
   "metadata": {},
   "outputs": [
    {
     "name": "stdout",
     "output_type": "stream",
     "text": [
      "TF-IDF vectorizer fitting completed!\n",
      "Dimensionality reduced to 100 components using Truncated SVD.\n",
      "X_train with TF-IDF features:         Id   ProductId          UserId  \\\n",
      "0   565351  B000053V8F  A3GAGA790C3F90   \n",
      "1   450021  6305126062  A2U9M4SE42KFK8   \n",
      "2  1124790  B00105308I  A1AISPOIIHTHXX   \n",
      "3  1521546  B006WQUL64  A2435XASRUN5O0   \n",
      "4   749431  B00008YGRS  A3I7UACA67A3NP   \n",
      "\n",
      "                                                Text  Score  HelpfulnessRatio  \\\n",
      "0  While this follows the book much more closely ...    3.0         -0.953032   \n",
      "1  Great story on how issues can be over come wit...    NaN         -0.953032   \n",
      "2  Despite the fact that South Park has maintaine...    4.0         -0.953032   \n",
      "3  If you love Bogey, you'll be well entertained ...    NaN          1.431414   \n",
      "4  Can I get my half hour back? Can I get my half...    NaN         -0.953032   \n",
      "\n",
      "   ReviewWordCount  ReviewCharCount  Polarity  Subjectivity  ...  TFIDF_90  \\\n",
      "0        -0.566694        -0.565026 -0.195982     -0.904084  ...  0.004818   \n",
      "1        -0.625038        -0.634288  2.111511      0.813434  ... -0.145821   \n",
      "2         1.290597         1.277501 -0.178837      0.005060  ... -0.060537   \n",
      "3        -0.659072        -0.646805 -0.496146     -1.993137  ... -0.008443   \n",
      "4        -0.581280        -0.580047 -1.063028     -2.079228  ...  0.020873   \n",
      "\n",
      "   TFIDF_91  TFIDF_92  TFIDF_93  TFIDF_94  TFIDF_95  TFIDF_96  TFIDF_97  \\\n",
      "0 -0.017149 -0.016142 -0.008114 -0.014067 -0.003990  0.015484  0.003728   \n",
      "1  0.070535  0.031912 -0.014930  0.037086 -0.024180  0.036847  0.032177   \n",
      "2  0.039613 -0.037262 -0.070624  0.005765  0.002563 -0.009005 -0.022808   \n",
      "3  0.006994 -0.052354  0.134724 -0.049425  0.184640  0.022632  0.020797   \n",
      "4 -0.038116 -0.008797  0.039059  0.002082 -0.014975  0.012857  0.042622   \n",
      "\n",
      "   TFIDF_98  TFIDF_99  \n",
      "0 -0.002996 -0.009828  \n",
      "1 -0.048226  0.027510  \n",
      "2  0.069948 -0.089324  \n",
      "3  0.138333 -0.123856  \n",
      "4 -0.046446 -0.021790  \n",
      "\n",
      "[5 rows x 118 columns]\n"
     ]
    }
   ],
   "source": [
    "# Step 1: Generate the TF-IDF matrix and apply SVD\n",
    "tfidf_matrix = TFIDF_Vectorization(X_train)\n",
    "tfidf_reduced = svd(tfidf_matrix)\n",
    "\n",
    "# Step 2: Convert the reduced TF-IDF matrix to a DataFrame\n",
    "tfidf_features = [f'TFIDF_{i}' for i in range(tfidf_reduced.shape[1])]  # Create column names\n",
    "tfidf_reduced_df = pd.DataFrame(tfidf_reduced, columns=tfidf_features, index=X_train.index)\n",
    "\n",
    "# Step 3: Concatenate the reduced TF-IDF features back into X_train\n",
    "X_train = pd.concat([X_train.reset_index(drop=True), tfidf_reduced_df.reset_index(drop=True)], axis=1)\n",
    "\n",
    "# Now X_train includes the vectorized text columns as TF-IDF features\n",
    "print(\"X_train with TF-IDF features:\", X_train.head())"
   ]
  },
  {
   "cell_type": "code",
   "execution_count": 103,
   "metadata": {},
   "outputs": [
    {
     "name": "stdout",
     "output_type": "stream",
     "text": [
      "Feature selection and train-test split completed!\n",
      "X_train shape: (1273149, 108)\n",
      "X_test shape: (424384, 108)\n",
      "y_train shape: (1273149,)\n",
      "y_test shape: (424384,)\n"
     ]
    }
   ],
   "source": [
    "from sklearn.model_selection import train_test_split\n",
    "from sklearn.preprocessing import StandardScaler\n",
    "import pandas as pd\n",
    "\n",
    "# Step 1: Define Metadata Features to Include\n",
    "numeric_metadata_features = ['HelpfulnessRatio', 'ReviewWordCount', 'ProductAvgRating', \n",
    "                             'ProductReviewCount', 'ReviewerReviewCount', \n",
    "                             'ReviewerAvgRating', 'Polarity', 'Subjectivity']\n",
    "\n",
    "# Step 2: Normalize the Numeric Metadata Features\n",
    "scaler = StandardScaler()\n",
    "normalized_numeric_metadata = scaler.fit_transform(full_train_with_features[numeric_metadata_features])\n",
    "normalized_numeric_metadata_df = pd.DataFrame(normalized_numeric_metadata, columns=numeric_metadata_features)\n",
    "\n",
    "# Step 3: Convert TF-IDF Reduced Matrix to DataFrame with Column Names\n",
    "tfidf_reduced_df = pd.DataFrame(tfidf_reduced, columns=[f\"TFIDF_{i}\" for i in range(tfidf_reduced.shape[1])])\n",
    "\n",
    "# Step 4: Combine Reduced TF-IDF with Metadata Features\n",
    "X_combined = pd.concat([normalized_numeric_metadata_df.reset_index(drop=True), tfidf_reduced_df.reset_index(drop=True)], axis=1)\n",
    "\n",
    "# Step 5: Define the Target Variable\n",
    "y = full_train_with_features['Score'].fillna(full_train_with_features['Score'].median())  # Handle missing values in the target\n",
    "\n",
    "# Step 6: Train-Test Split\n",
    "X_train, X_test, y_train, y_test = train_test_split(X_combined, y, test_size=0.25, random_state=42)\n",
    "\n",
    "# Confirm Completion\n",
    "print(\"Feature selection and train-test split completed!\")\n",
    "print(\"X_train shape:\", X_train.shape)\n",
    "print(\"X_test shape:\", X_test.shape)\n",
    "print(\"y_train shape:\", y_train.shape)\n",
    "print(\"y_test shape:\", y_test.shape)"
   ]
  },
  {
   "cell_type": "markdown",
   "metadata": {},
   "source": [
    "# Model Creation"
   ]
  },
  {
   "cell_type": "code",
   "execution_count": 105,
   "metadata": {},
   "outputs": [
    {
     "name": "stdout",
     "output_type": "stream",
     "text": [
      "Missing values in X_train: 101811000\n",
      "Missing values in Y_train: 0\n",
      "Data types in X_train:\n",
      " HelpfulnessRatio       float64\n",
      "ReviewWordCount        float64\n",
      "ProductAvgRating       float64\n",
      "ProductReviewCount     float64\n",
      "ReviewerReviewCount    float64\n",
      "                        ...   \n",
      "TFIDF_95               float64\n",
      "TFIDF_96               float64\n",
      "TFIDF_97               float64\n",
      "TFIDF_98               float64\n",
      "TFIDF_99               float64\n",
      "Length: 108, dtype: object\n",
      "Data type in Y_train: float64\n"
     ]
    }
   ],
   "source": [
    "print(\"Missing values in X_train:\", X_train.isnull().sum().sum())\n",
    "print(\"Missing values in Y_train:\", y_train.isnull().sum())\n",
    "print(\"Data types in X_train:\\n\", X_train.dtypes)\n",
    "print(\"Data type in Y_train:\",y_train.dtype)"
   ]
  },
  {
   "cell_type": "code",
   "execution_count": 143,
   "metadata": {},
   "outputs": [
    {
     "data": {
      "text/plain": [
       "Index(['HelpfulnessRatio', 'ReviewWordCount', 'ProductAvgRating',\n",
       "       'ProductReviewCount', 'ReviewerReviewCount', 'ReviewerAvgRating',\n",
       "       'Polarity', 'Subjectivity', 'TFIDF_0', 'TFIDF_1',\n",
       "       ...\n",
       "       'TFIDF_90', 'TFIDF_91', 'TFIDF_92', 'TFIDF_93', 'TFIDF_94', 'TFIDF_95',\n",
       "       'TFIDF_96', 'TFIDF_97', 'TFIDF_98', 'TFIDF_99'],\n",
       "      dtype='object', length=108)"
      ]
     },
     "execution_count": 143,
     "metadata": {},
     "output_type": "execute_result"
    }
   ],
   "source": [
    "X_train.columns"
   ]
  },
  {
   "cell_type": "code",
   "execution_count": 108,
   "metadata": {},
   "outputs": [
    {
     "name": "stdout",
     "output_type": "stream",
     "text": [
      "XGBoost Model Training and Prediction Completed!\n"
     ]
    }
   ],
   "source": [
    "import xgboost as xgb\n",
    "\n",
    "# Initialize the XGBoost model\n",
    "xgb_model = xgb.XGBRegressor(objective='reg:squarederror', random_state=42)\n",
    "\n",
    "# Train the model on the training data\n",
    "xgb_model.fit(X_train, y_train)\n",
    "\n",
    "# Predict the scores on the test data\n",
    "y_test_pred = xgb_model.predict(X_test)\n",
    "\n",
    "print(\"XGBoost Model Training and Prediction Completed!\")"
   ]
  },
  {
   "cell_type": "code",
   "execution_count": 109,
   "metadata": {},
   "outputs": [
    {
     "name": "stdout",
     "output_type": "stream",
     "text": [
      "Fitting 3 folds for each of 20 candidates, totalling 60 fits\n"
     ]
    }
   ],
   "source": [
    "from sklearn.model_selection import RandomizedSearchCV\n",
    "\n",
    "param_distributions = {\n",
    "    'learning_rate': [0.01, 0.05, 0.1],\n",
    "    'n_estimators': [100, 200, 300],\n",
    "    'max_depth': [3, 5, 7],\n",
    "    'min_child_weight': [1, 3, 5],\n",
    "}\n",
    "\n",
    "random_search = RandomizedSearchCV(xgb_model, param_distributions, n_iter=20, cv=3, scoring='neg_mean_squared_error', verbose=1, random_state=42)\n",
    "random_search.fit(X_train, y_train)\n",
    "\n",
    "# Get the best model\n",
    "best_xgb_model = random_search.best_estimator_"
   ]
  },
  {
   "cell_type": "code",
   "execution_count": 114,
   "metadata": {},
   "outputs": [],
   "source": [
    "model = best_xgb_model\n",
    "\n",
    "# Make predictions with the best model\n",
    "y_test_pred = model.predict(X_test)\n",
    "\n",
    "# Round the predictions to the nearest integer\n",
    "y_test_pred = np.round(y_test_pred).astype(int)\n",
    "\n",
    "# Clip predictions to ensure they are within the 1-5 range\n",
    "y_test_pred = np.clip(y_test_pred, 1, 5)"
   ]
  },
  {
   "cell_type": "markdown",
   "metadata": {},
   "source": [
    "# Model Evaluation"
   ]
  },
  {
   "cell_type": "code",
   "execution_count": 115,
   "metadata": {},
   "outputs": [
    {
     "name": "stdout",
     "output_type": "stream",
     "text": [
      "Accuracy on testing set =  0.5648634255768361\n"
     ]
    },
    {
     "data": {
      "image/png": "[encoded data removed]",
      "text/plain": [
       "<Figure size 640x480 with 2 Axes>"
      ]
     },
     "metadata": {},
     "output_type": "display_data"
    }
   ],
   "source": [
    "# Evaluate your model on the testing set\n",
    "print(\"Accuracy on testing set = \", accuracy_score(y_test, y_test_pred))\n",
    "\n",
    "# Plot a confusion matrix\n",
    "cm = confusion_matrix(y_test, y_test_pred, normalize='true')\n",
    "sns.heatmap(cm, annot=True)\n",
    "plt.title('Confusion matrix of the classifier')\n",
    "plt.xlabel('Predicted')\n",
    "plt.ylabel('True')\n",
    "plt.show()"
   ]
  },
  {
   "cell_type": "code",
   "execution_count": 122,
   "metadata": {},
   "outputs": [
    {
     "data": {
      "text/plain": [
       "Index(['Id', 'ProductId', 'UserId', 'Text', 'HelpfulnessRatio',\n",
       "       'ReviewWordCount', 'ReviewCharCount', 'Polarity', 'Subjectivity',\n",
       "       'AvgWordLength', 'UniqueWordCount', 'UniqueWordRatio', 'IsHelpful',\n",
       "       'ProductAvgRating', 'ProductReviewCount', 'ReviewerAvgRating',\n",
       "       'ReviewerReviewCount', 'Score'],\n",
       "      dtype='object')"
      ]
     },
     "execution_count": 122,
     "metadata": {},
     "output_type": "execute_result"
    }
   ],
   "source": [
    "X_submission.columns"
   ]
  },
  {
   "cell_type": "markdown",
   "metadata": {},
   "source": [
    "# Create submission file"
   ]
  },
  {
   "cell_type": "code",
   "execution_count": 145,
   "metadata": {},
   "outputs": [
    {
     "name": "stdout",
     "output_type": "stream",
     "text": [
      "TF-IDF vectorizer fitting completed!\n",
      "Dimensionality reduced to 100 components using Truncated SVD.\n",
      "X_submission with TF-IDF features:         Id   ProductId          UserId  \\\n",
      "0  1323432  B0034G4P30  A120UTHQDQIJGH   \n",
      "1  1137299  B0012IWO0I  A3SJBFCTJWBFT2   \n",
      "2  1459366  B005FUTBSC  A1V6FRU7EXP6N9   \n",
      "3   931601  B000AREXBU   ARXDDR76Z5Q2I   \n",
      "4  1311995  B002ZG99B8   A2XAS9GVZL3B1   \n",
      "\n",
      "                                                Text  HelpfulnessRatio  \\\n",
      "0  This movie was just alright for me. I think pe...         -0.953032   \n",
      "1  My kids love this movie.  Exciting and fun to ...          1.431414   \n",
      "2  The effects were good, not the best but far fr...         -0.953032   \n",
      "3  I just got a copy of this S. Korean dvd of \"He...          1.431414   \n",
      "4  OK, to put this clearly and bluntly... if you ...          1.431414   \n",
      "\n",
      "   ReviewWordCount  ReviewCharCount  Polarity  Subjectivity  AvgWordLength  \\\n",
      "0        -0.012424        -0.071850  0.473931     -0.265934      -0.636209   \n",
      "1        -0.688244        -0.681018  0.841696     -0.090523      -0.550832   \n",
      "2        -0.668796        -0.664329  0.270279      1.464283      -0.652138   \n",
      "3        -0.377075        -0.398130  1.442213      0.323288      -0.555657   \n",
      "4        -0.260386        -0.309676 -0.623695     -0.852429      -0.952301   \n",
      "\n",
      "   ...  TFIDF_90  TFIDF_91  TFIDF_92  TFIDF_93  TFIDF_94  TFIDF_95  TFIDF_96  \\\n",
      "0  ...  0.080390  0.083785  0.054332  0.024623 -0.029065  0.000739  0.037275   \n",
      "1  ... -0.030742 -0.019771 -0.001036 -0.034912 -0.016544  0.003008 -0.013292   \n",
      "2  ... -0.036840 -0.050927 -0.007930 -0.048135  0.036208 -0.001498 -0.012737   \n",
      "3  ...  0.069174 -0.040221  0.041054  0.018169 -0.042130  0.101020 -0.027693   \n",
      "4  ... -0.019289 -0.027604 -0.025916  0.048650 -0.028715 -0.031533 -0.008916   \n",
      "\n",
      "   TFIDF_97  TFIDF_98  TFIDF_99  \n",
      "0  0.063259 -0.016287  0.023073  \n",
      "1 -0.032618 -0.000985  0.012124  \n",
      "2 -0.041307 -0.072140 -0.030103  \n",
      "3  0.002765  0.071246  0.031118  \n",
      "4 -0.022696 -0.008777 -0.050148  \n",
      "\n",
      "[5 rows x 118 columns]\n"
     ]
    }
   ],
   "source": [
    "# TF-IDF X_submission\n",
    "# Step 1: Generate the TF-IDF matrix and apply SVD\n",
    "tfidf_matrix = TFIDF_Vectorization(X_submission)\n",
    "tfidf_reduced = svd(tfidf_matrix)\n",
    "\n",
    "# Step 2: Convert the reduced TF-IDF matrix to a DataFrame\n",
    "tfidf_features = [f'TFIDF_{i}' for i in range(tfidf_reduced.shape[1])]  # Create column names\n",
    "tfidf_reduced_df = pd.DataFrame(tfidf_reduced, columns=tfidf_features, index=X_submission.index)\n",
    "\n",
    "# Step 3: Concatenate the reduced TF-IDF features back into X_train\n",
    "X_submission_select = pd.concat([X_submission.reset_index(drop=True), tfidf_reduced_df.reset_index(drop=True)], axis=1)\n",
    "\n",
    "# Now X_train includes the vectorized text columns as TF-IDF features\n",
    "print(\"X_submission with TF-IDF features:\", X_submission.head())"
   ]
  },
  {
   "cell_type": "code",
   "execution_count": 149,
   "metadata": {},
   "outputs": [],
   "source": [
    "features = X_test.columns\n",
    "\n",
    "X_submission_select = X_submission[features]"
   ]
  },
  {
   "cell_type": "code",
   "execution_count": 153,
   "metadata": {},
   "outputs": [],
   "source": [
    "# Create the submission file with discrete scores\n",
    "X_submission['Score'] = model.predict(X_submission_select)\n",
    "\n",
    "# Round the predictions to the nearest integer and clip them to the valid score range (e.g., 1 to 5)\n",
    "X_submission['Score'] = X_submission['Score'].round().clip(1, 5).astype(int)\n",
    "\n",
    "# Prepare the final submission DataFrame\n",
    "submission = X_submission[['Id', 'Score']]\n",
    "submission.to_csv(\"submission.csv\", index=False)"
   ]
  }
 ],
 "metadata": {
  "kernelspec": {
   "display_name": "Python 3",
   "language": "python",
   "name": "python3"
  },
  "language_info": {
   "codemirror_mode": {
    "name": "ipython",
    "version": 3
   },
   "file_extension": ".py",
   "mimetype": "text/x-python",
   "name": "python",
   "nbconvert_exporter": "python",
   "pygments_lexer": "ipython3",
   "version": "3.11.1"
  }
 },
 "nbformat": 4,
 "nbformat_minor": 2
}
