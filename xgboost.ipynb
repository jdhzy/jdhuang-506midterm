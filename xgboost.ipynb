{
 "cells": [
  {
   "cell_type": "markdown",
   "metadata": {},
   "source": [
    "# Libraries"
   ]
  },
  {
   "cell_type": "code",
   "execution_count": 31,
   "metadata": {},
   "outputs": [],
   "source": [
    "import pandas as pd\n",
    "import numpy as np\n",
    "import matplotlib.pyplot as plt\n",
    "from sklearn.feature_extraction.text import TfidfVectorizer\n",
    "from sklearn.model_selection import train_test_split\n",
    "from sklearn.metrics import mean_squared_error\n",
    "import xgboost as xgb\n",
    "from textblob import TextBlob"
   ]
  },
  {
   "cell_type": "markdown",
   "metadata": {},
   "source": [
    "# Loading the Files\n",
    "\n",
    "Download the csv files into the `data/` directory."
   ]
  },
  {
   "cell_type": "code",
   "execution_count": 32,
   "metadata": {},
   "outputs": [
    {
     "name": "stdout",
     "output_type": "stream",
     "text": [
      "train.csv shape is  (1697533, 9)\n",
      "test.csv shape is  (212192, 2)\n",
      "\n",
      "        Id   ProductId          UserId  HelpfulnessNumerator  \\\n",
      "0   914403  B0009W5KHM   AV6QDP8Q0ONK4                     2   \n",
      "1   354887  6303079709  A2I8RXJN80A2D2                     0   \n",
      "2  1407653  B004H0M2XC  A3FHV3RV8Z12E6                     0   \n",
      "3  1377458  B003ZJ9536  A12VLTA3ZHVPUY                     1   \n",
      "4   475323  630574453X  A13NM1PES9OXVN                     2   \n",
      "\n",
      "   HelpfulnessDenominator        Time  \\\n",
      "0                       2  1341014400   \n",
      "1                       0  1168819200   \n",
      "2                       0  1386201600   \n",
      "3                       1  1348704000   \n",
      "4                       3   970012800   \n",
      "\n",
      "                                         Summary  \\\n",
      "0                                  GOOD FUN FILM   \n",
      "1                                   Movie Review   \n",
      "2             When is it a good time to Consent?   \n",
      "3                                          TRUTH   \n",
      "4  Intelligent and bittersweet -- stays with you   \n",
      "\n",
      "                                                Text  Score  \n",
      "0  While most straight to DVD films are not worth...    5.0  \n",
      "1  I have wanted this one for sometime, also.  I ...    5.0  \n",
      "2  Actually this was a pretty darn good indie fil...    4.0  \n",
      "3  Episodes 37 to 72 of the series press on in a ...    5.0  \n",
      "4  I was really impressed with this movie, but wa...    3.0  \n",
      "\n",
      "        Id  Score\n",
      "0  1323432    NaN\n",
      "1  1137299    NaN\n",
      "2  1459366    NaN\n",
      "3   931601    NaN\n",
      "4  1311995    NaN\n",
      "\n",
      "                 Id  HelpfulnessNumerator  HelpfulnessDenominator  \\\n",
      "count  1.697533e+06          1.697533e+06            1.697533e+06   \n",
      "mean   8.487660e+05          3.569048e+00            5.301422e+00   \n",
      "std    4.900357e+05          1.727883e+01            2.024445e+01   \n",
      "min    0.000000e+00          0.000000e+00            0.000000e+00   \n",
      "25%    4.243830e+05          0.000000e+00            0.000000e+00   \n",
      "50%    8.487660e+05          1.000000e+00            1.000000e+00   \n",
      "75%    1.273149e+06          3.000000e+00            5.000000e+00   \n",
      "max    1.697532e+06          6.084000e+03            6.510000e+03   \n",
      "\n",
      "               Time         Score  \n",
      "count  1.697533e+06  1.485341e+06  \n",
      "mean   1.262422e+09  4.110517e+00  \n",
      "std    1.289277e+08  1.197651e+00  \n",
      "min    8.793792e+08  1.000000e+00  \n",
      "25%    1.164413e+09  4.000000e+00  \n",
      "50%    1.307491e+09  5.000000e+00  \n",
      "75%    1.373242e+09  5.000000e+00  \n",
      "max    1.406074e+09  5.000000e+00  \n"
     ]
    },
    {
     "data": {
      "image/png": "[encoded data removed]",
      "text/plain": [
       "<Figure size 640x480 with 1 Axes>"
      ]
     },
     "metadata": {},
     "output_type": "display_data"
    },
    {
     "name": "stdout",
     "output_type": "stream",
     "text": [
      "\n",
      "EVERYTHING IS PROPERLY SET UP! YOU ARE READY TO START\n",
      "\n"
     ]
    }
   ],
   "source": [
    "# Load the data\n",
    "trainingSet = pd.read_csv(\"train.csv\")\n",
    "testingSet = pd.read_csv(\"test.csv\")\n",
    "\n",
    "# Check the shape of both datasets\n",
    "print(\"train.csv shape is \", trainingSet.shape)\n",
    "print(\"test.csv shape is \", testingSet.shape)\n",
    "\n",
    "print()\n",
    "print(trainingSet.head())\n",
    "print()\n",
    "print(testingSet.head())\n",
    "print()\n",
    "print(trainingSet.describe())\n",
    "\n",
    "# Plot the distribution of 'Score'\n",
    "trainingSet['Score'].value_counts().plot(kind='bar', legend=True, alpha=.5)\n",
    "plt.title(\"Distribution of Scores in Training Data\")\n",
    "plt.xlabel(\"Score\")\n",
    "plt.ylabel(\"Frequency\")\n",
    "plt.show()\n",
    "\n",
    "print(\"\\nEVERYTHING IS PROPERLY SET UP! YOU ARE READY TO START\\n\")"
   ]
  },
  {
   "cell_type": "code",
   "execution_count": 33,
   "metadata": {},
   "outputs": [
    {
     "name": "stdout",
     "output_type": "stream",
     "text": [
      "Index(['Id', 'ProductId', 'UserId', 'HelpfulnessNumerator',\n",
      "       'HelpfulnessDenominator', 'Time', 'Summary', 'Text', 'Score'],\n",
      "      dtype='object')\n",
      "Index(['Id', 'Score'], dtype='object')\n"
     ]
    }
   ],
   "source": [
    "print(trainingSet.columns)\n",
    "print(testingSet.columns)\n"
   ]
  },
  {
   "cell_type": "markdown",
   "metadata": {},
   "source": [
    "# Adding Features"
   ]
  },
  {
   "cell_type": "code",
   "execution_count": 34,
   "metadata": {},
   "outputs": [],
   "source": [
    "def add_features(df, is_training=True):\n",
    "    if is_training:\n",
    "        # Check if 'HelpfulnessNumerator' and 'HelpfulnessDenominator' exist\n",
    "        if 'HelpfulnessNumerator' in df.columns and 'HelpfulnessDenominator' in df.columns:\n",
    "            # Handle missing values in 'HelpfulnessNumerator' and 'HelpfulnessDenominator'\n",
    "            df['HelpfulnessNumerator'] = df['HelpfulnessNumerator'].fillna(0)\n",
    "            df['HelpfulnessDenominator'] = df['HelpfulnessDenominator'].fillna(1)  # To avoid division by zero\n",
    "\n",
    "            # Create HelpfulnessRatio\n",
    "            df['HelpfulnessRatio'] = df['HelpfulnessNumerator'] / df['HelpfulnessDenominator']\n",
    "\n",
    "            # Drop unnecessary columns\n",
    "            df = df.drop(columns=['HelpfulnessNumerator', 'HelpfulnessDenominator'])\n",
    "        \n",
    "        # Handle missing values in the 'Text' column by replacing NaN with empty strings\n",
    "        df['Text'] = df['Text'].fillna('')\n",
    "\n",
    "        # Create ReviewWordCount and ReviewCharCount\n",
    "        df['ReviewWordCount'] = df['Text'].apply(lambda x: len(x.split()))  # Word count\n",
    "        df['ReviewCharCount'] = df['Text'].apply(lambda x: len(x))  # Character count\n",
    "\n",
    "        # Handle Time column (convert Unix timestamp to datetime, extract year and month)\n",
    "        df['Time'] = pd.to_datetime(df['Time'], unit='s')\n",
    "        df['Year'] = df['Time'].dt.year\n",
    "        df['Month'] = df['Time'].dt.month\n",
    "\n",
    "        # Create a 'Season' feature\n",
    "        def get_season(month):\n",
    "            if month in [12, 1, 2]:\n",
    "                return 'Winter'\n",
    "            elif month in [3, 4, 5]:\n",
    "                return 'Spring'\n",
    "            elif month in [6, 7, 8]:\n",
    "                return 'Summer'\n",
    "            else:\n",
    "                return 'Fall'\n",
    "\n",
    "        df['Season'] = df['Month'].apply(get_season)\n",
    "    \n",
    "    # Return the modified DataFrame\n",
    "    return df"
   ]
  },
  {
   "cell_type": "code",
   "execution_count": 35,
   "metadata": {},
   "outputs": [],
   "source": [
    "from sklearn.preprocessing import StandardScaler\n",
    "import pandas as pd\n",
    "from textblob import TextBlob\n",
    "\n",
    "def process_data(df, reference_date=pd.to_datetime(\"today\")):\n",
    "    # Metadata features to include\n",
    "    numeric_metadata_features = ['HelpfulnessRatio', 'ReviewWordCount', 'ReviewCharCount']\n",
    "\n",
    "    # 1. Sentiment Analysis Features\n",
    "    def get_sentiment(text):\n",
    "        blob = TextBlob(text)\n",
    "        return blob.sentiment.polarity, blob.sentiment.subjectivity\n",
    "\n",
    "    df[['Polarity', 'Subjectivity']] = df['Text'].apply(lambda x: pd.Series(get_sentiment(x)))\n",
    "\n",
    "    # 2. Length of Review Features\n",
    "    df['AvgWordLength'] = df['ReviewCharCount'] / df['ReviewWordCount']\n",
    "    df['UniqueWordCount'] = df['Text'].apply(lambda x: len(set(x.split())))\n",
    "    df['UniqueWordRatio'] = df['UniqueWordCount'] / df['ReviewWordCount']\n",
    "\n",
    "    # 3. Helpfulness Ratio Features\n",
    "    df['IsHelpful'] = df['HelpfulnessRatio'].apply(lambda x: 1 if x >= 0.5 else 0)\n",
    "\n",
    "    # 4. Temporal Features\n",
    "    df['Hour'] = df['Time'].dt.hour\n",
    "    df['DayOfWeek'] = df['Time'].dt.dayofweek\n",
    "    df['DaysSinceReview'] = (reference_date - df['Time']).dt.days\n",
    "\n",
    "    # 5. Product Features\n",
    "    product_avg_rating = df.groupby('ProductId')['Score'].transform('mean')\n",
    "    df['ProductAvgRating'] = product_avg_rating\n",
    "\n",
    "    product_review_count = df.groupby('ProductId')['Score'].transform('count')\n",
    "    df['ProductReviewCount'] = product_review_count\n",
    "\n",
    "    # 6. Reviewer Features\n",
    "    reviewer_avg_rating = df.groupby('UserId')['Score'].transform('mean')\n",
    "    df['ReviewerAvgRating'] = reviewer_avg_rating\n",
    "\n",
    "    reviewer_review_count = df.groupby('UserId')['Score'].transform('count')\n",
    "    df['ReviewerReviewCount'] = reviewer_review_count\n",
    "\n",
    "    # 7. Normalize Numeric Metadata Features\n",
    "    numeric_features = numeric_metadata_features + ['AvgWordLength', 'UniqueWordRatio', 'Polarity', 'Subjectivity',\n",
    "                                                    'ProductAvgRating', 'ProductReviewCount', 'ReviewerAvgRating',\n",
    "                                                    'ReviewerReviewCount', 'DaysSinceReview']\n",
    "    \n",
    "    scaler = StandardScaler()\n",
    "    df[numeric_features] = scaler.fit_transform(df[numeric_features].fillna(0))  # Handling NaNs\n",
    "\n",
    "    # 8. One-Hot Encode 'Season' Feature\n",
    "    season_encoded = pd.get_dummies(df['Season'], prefix='Season')\n",
    "    df = pd.concat([df, season_encoded], axis=1)\n",
    "\n",
    "    # Drop unused columns\n",
    "    df = df.drop(['Time'], axis=1, errors='ignore')\n",
    "    \n",
    "    return df\n",
    "\n",
    "# Example usage:\n",
    "# processed_trainingSet = process_data(sampled_trainingSet)\n",
    "# processed_testingSet = process_data(testingSet)"
   ]
  },
  {
   "cell_type": "markdown",
   "metadata": {},
   "source": [
    "# Data Processing"
   ]
  },
  {
   "cell_type": "code",
   "execution_count": 36,
   "metadata": {},
   "outputs": [
    {
     "name": "stdout",
     "output_type": "stream",
     "text": [
      "Sampled and processed data shape: (339507, 29)\n"
     ]
    }
   ],
   "source": [
    "# Step 1: Randomly sample 20% of the dataset\n",
    "sampled_trainingSet = trainingSet.sample(frac=0.20, random_state=42)\n",
    "\n",
    "# Step 2: Apply the add_features function to add custom features\n",
    "sampled_trainingSet = add_features(sampled_trainingSet, is_training=True)\n",
    "\n",
    "# Step 3: Process the sampled training set using the process_data function to handle further transformations\n",
    "sampled_trainingSet = process_data(sampled_trainingSet)\n",
    "\n",
    "# Print the final shape of the sampled and processed data\n",
    "print(\"Sampled and processed data shape:\", sampled_trainingSet.shape)"
   ]
  },
  {
   "cell_type": "markdown",
   "metadata": {},
   "source": [
    "# Data Processing"
   ]
  },
  {
   "cell_type": "code",
   "execution_count": 37,
   "metadata": {},
   "outputs": [
    {
     "data": {
      "text/plain": [
       "Index(['Id', 'ProductId', 'UserId', 'Summary', 'Text', 'Score',\n",
       "       'HelpfulnessRatio', 'ReviewWordCount', 'ReviewCharCount', 'Year',\n",
       "       'Month', 'Season', 'Polarity', 'Subjectivity', 'AvgWordLength',\n",
       "       'UniqueWordCount', 'UniqueWordRatio', 'IsHelpful', 'Hour', 'DayOfWeek',\n",
       "       'DaysSinceReview', 'ProductAvgRating', 'ProductReviewCount',\n",
       "       'ReviewerAvgRating', 'ReviewerReviewCount', 'Season_Fall',\n",
       "       'Season_Spring', 'Season_Summer', 'Season_Winter'],\n",
       "      dtype='object')"
      ]
     },
     "execution_count": 37,
     "metadata": {},
     "output_type": "execute_result"
    }
   ],
   "source": [
    "sampled_trainingSet.columns"
   ]
  },
  {
   "cell_type": "markdown",
   "metadata": {},
   "source": [
    "TF-IDF Vectorization"
   ]
  },
  {
   "cell_type": "code",
   "execution_count": 38,
   "metadata": {},
   "outputs": [
    {
     "name": "stdout",
     "output_type": "stream",
     "text": [
      "TF-IDF vectorizer fitting completed!\n",
      "Dimensionality reduced to 100 components using Truncated SVD.\n"
     ]
    }
   ],
   "source": [
    "from sklearn.feature_extraction.text import TfidfVectorizer\n",
    "from sklearn.decomposition import TruncatedSVD\n",
    "import pandas as pd\n",
    "\n",
    "# Create TF-IDF vectorizer and fit it on the entire dataset\n",
    "tfidf_vectorizer = TfidfVectorizer(stop_words='english', max_features=1000, min_df=10, max_df=0.7)\n",
    "\n",
    "# Fit the vectorizer on the 'Text' column to capture the vocabulary and transform the text\n",
    "tfidf_matrix = tfidf_vectorizer.fit_transform(sampled_trainingSet['Text'])\n",
    "\n",
    "print(\"TF-IDF vectorizer fitting completed!\")\n",
    "\n",
    "# Apply Truncated SVD to reduce the dimensionality of the TF-IDF matrix\n",
    "n_components = 100  # You can adjust this number as needed\n",
    "svd = TruncatedSVD(n_components=n_components, random_state=42)\n",
    "\n",
    "# Fit and transform the TF-IDF matrix with Truncated SVD\n",
    "tfidf_reduced = svd.fit_transform(tfidf_matrix)\n",
    "\n",
    "print(f\"Dimensionality reduced to {n_components} components using Truncated SVD.\")"
   ]
  },
  {
   "cell_type": "markdown",
   "metadata": {},
   "source": [
    "Train-test-split"
   ]
  },
  {
   "cell_type": "code",
   "execution_count": 39,
   "metadata": {},
   "outputs": [
    {
     "name": "stdout",
     "output_type": "stream",
     "text": [
      "Index(['Id', 'ProductId', 'UserId', 'Summary', 'Text', 'Score',\n",
      "       'HelpfulnessRatio', 'ReviewWordCount', 'ReviewCharCount', 'Year',\n",
      "       'Month', 'Season', 'Polarity', 'Subjectivity', 'AvgWordLength',\n",
      "       'UniqueWordCount', 'UniqueWordRatio', 'IsHelpful', 'Hour', 'DayOfWeek',\n",
      "       'DaysSinceReview', 'ProductAvgRating', 'ProductReviewCount',\n",
      "       'ReviewerAvgRating', 'ReviewerReviewCount', 'Season_Fall',\n",
      "       'Season_Spring', 'Season_Summer', 'Season_Winter'],\n",
      "      dtype='object')\n"
     ]
    }
   ],
   "source": [
    "print(sampled_trainingSet.columns)"
   ]
  },
  {
   "cell_type": "code",
   "execution_count": 40,
   "metadata": {},
   "outputs": [
    {
     "name": "stdout",
     "output_type": "stream",
     "text": [
      "Train-test split completed!\n"
     ]
    }
   ],
   "source": [
    "from sklearn.model_selection import train_test_split\n",
    "from sklearn.preprocessing import StandardScaler\n",
    "import pandas as pd\n",
    "\n",
    "# Metadata features to include (excluding 'Season' for one-hot encoding)\n",
    "numeric_metadata_features = ['HelpfulnessRatio', 'ReviewWordCount', 'ProductAvgRating', 'ProductReviewCount', 'ReviewerReviewCount', 'ReviewerAvgRating']\n",
    "\n",
    "# One-hot encode the 'Season' column and convert it into 0/1 values\n",
    "season_encoded = pd.get_dummies(sampled_trainingSet['Season'], prefix='Season')\n",
    "\n",
    "# Normalize the numeric metadata features\n",
    "scaler = StandardScaler()\n",
    "normalized_numeric_metadata = scaler.fit_transform(sampled_trainingSet[numeric_metadata_features])\n",
    "normalized_numeric_metadata_df = pd.DataFrame(normalized_numeric_metadata, columns=numeric_metadata_features)\n",
    "\n",
    "# Combine normalized numeric metadata with one-hot encoded 'Season'\n",
    "X_metadata = pd.concat([normalized_numeric_metadata_df.reset_index(drop=True), season_encoded.reset_index(drop=True)], axis=1)\n",
    "\n",
    "# Ensure tfidf_reduced has appropriate column names if it's an array\n",
    "tfidf_reduced_df = pd.DataFrame(tfidf_reduced, columns=[f\"TFIDF_{i}\" for i in range(tfidf_reduced.shape[1])])\n",
    "\n",
    "# Combine the reduced TF-IDF matrix with metadata features\n",
    "X_combined = pd.concat([tfidf_reduced_df.reset_index(drop=True), X_metadata.reset_index(drop=True)], axis=1)\n",
    "\n",
    "# Define the target variable\n",
    "y = sampled_trainingSet['Score'].fillna(sampled_trainingSet['Score'].median())  # Handle missing values in target\n",
    "\n",
    "# Train-Test Split\n",
    "X_train, X_test, y_train, y_test = train_test_split(X_combined, y, test_size=0.25, random_state=42)\n",
    "\n",
    "print(\"Train-test split completed!\")"
   ]
  },
  {
   "cell_type": "markdown",
   "metadata": {},
   "source": [
    "# Feature Selection"
   ]
  },
  {
   "cell_type": "markdown",
   "metadata": {},
   "source": [
    "# Model Creation"
   ]
  },
  {
   "cell_type": "markdown",
   "metadata": {},
   "source": [
    "Tune hyperparameters"
   ]
  },
  {
   "cell_type": "code",
   "execution_count": 41,
   "metadata": {},
   "outputs": [
    {
     "name": "stdout",
     "output_type": "stream",
     "text": [
      "XGBoost Model Training and Prediction Completed!\n"
     ]
    }
   ],
   "source": [
    "import xgboost as xgb\n",
    "\n",
    "# Initialize the XGBoost model\n",
    "xgb_model = xgb.XGBRegressor(objective='reg:squarederror', random_state=42)\n",
    "\n",
    "# Train the model on the training data\n",
    "xgb_model.fit(X_train, y_train)\n",
    "\n",
    "# Predict the scores on the test data\n",
    "y_test_pred = xgb_model.predict(X_test)\n",
    "\n",
    "print(\"XGBoost Model Training and Prediction Completed!\")"
   ]
  },
  {
   "cell_type": "code",
   "execution_count": 42,
   "metadata": {},
   "outputs": [
    {
     "name": "stdout",
     "output_type": "stream",
     "text": [
      "Fitting 3 folds for each of 20 candidates, totalling 60 fits\n"
     ]
    }
   ],
   "source": [
    "from sklearn.model_selection import RandomizedSearchCV\n",
    "\n",
    "param_distributions = {\n",
    "    'learning_rate': [0.01, 0.05, 0.1],\n",
    "    'n_estimators': [100, 200, 300],\n",
    "    'max_depth': [3, 5, 7],\n",
    "    'min_child_weight': [1, 3, 5],\n",
    "}\n",
    "\n",
    "random_search = RandomizedSearchCV(xgb_model, param_distributions, n_iter=20, cv=3, scoring='neg_mean_squared_error', verbose=1, random_state=42)\n",
    "random_search.fit(X_train, y_train)\n",
    "\n",
    "# Get the best model\n",
    "best_xgb_model = random_search.best_estimator_"
   ]
  },
  {
   "cell_type": "code",
   "execution_count": 43,
   "metadata": {},
   "outputs": [
    {
     "name": "stdout",
     "output_type": "stream",
     "text": [
      "Predictions adjusted to integer values between 1 and 5.\n"
     ]
    }
   ],
   "source": [
    "# Make predictions with the best model\n",
    "y_test_pred = best_xgb_model.predict(X_test)\n",
    "\n",
    "# Round the predictions to the nearest integer\n",
    "y_test_pred = np.round(y_test_pred).astype(int)\n",
    "\n",
    "# Clip predictions to ensure they are within the 1-5 range\n",
    "y_test_pred = np.clip(y_test_pred, 1, 5)\n",
    "\n",
    "print(\"Predictions adjusted to integer values between 1 and 5.\")"
   ]
  },
  {
   "cell_type": "markdown",
   "metadata": {},
   "source": [
    "# Model Evaluation"
   ]
  },
  {
   "cell_type": "code",
   "execution_count": 46,
   "metadata": {},
   "outputs": [
    {
     "name": "stdout",
     "output_type": "stream",
     "text": [
      "Accuracy on testing set = 0.6518727099214157\n"
     ]
    },
    {
     "data": {
      "image/png": "[encoded data removed]",
      "text/plain": [
       "<Figure size 800x600 with 1 Axes>"
      ]
     },
     "metadata": {},
     "output_type": "display_data"
    }
   ],
   "source": [
    "from sklearn.metrics import accuracy_score, confusion_matrix\n",
    "import seaborn as sns\n",
    "import matplotlib.pyplot as plt\n",
    "import numpy as np\n",
    "\n",
    "# Evaluate accuracy on the testing set\n",
    "accuracy = accuracy_score(y_test, y_test_pred)\n",
    "print(\"Accuracy on testing set =\", accuracy)\n",
    "\n",
    "# Generate and plot the confusion matrix\n",
    "cm = confusion_matrix(y_test, y_test_pred, normalize='true')\n",
    "plt.figure(figsize=(8, 6))\n",
    "sns.heatmap(cm, annot=True, fmt=\".2f\", cmap='Blues', cbar=False)\n",
    "plt.title('Confusion Matrix of the Classifier')\n",
    "plt.xlabel('Predicted Labels')\n",
    "plt.ylabel('True Labels')\n",
    "plt.show()"
   ]
  },
  {
   "cell_type": "markdown",
   "metadata": {},
   "source": [
    "# Create submission file"
   ]
  },
  {
   "cell_type": "code",
   "execution_count": 45,
   "metadata": {},
   "outputs": [
    {
     "ename": "NameError",
     "evalue": "name 'model' is not defined",
     "output_type": "error",
     "traceback": [
      "\u001b[0;31m---------------------------------------------------------------------------\u001b[0m",
      "\u001b[0;31mNameError\u001b[0m                                 Traceback (most recent call last)",
      "Cell \u001b[0;32mIn[45], line 2\u001b[0m\n\u001b[1;32m      1\u001b[0m \u001b[38;5;66;03m# Create the submission file\u001b[39;00m\n\u001b[0;32m----> 2\u001b[0m X_submission[\u001b[38;5;124m'\u001b[39m\u001b[38;5;124mScore\u001b[39m\u001b[38;5;124m'\u001b[39m] \u001b[38;5;241m=\u001b[39m \u001b[43mmodel\u001b[49m\u001b[38;5;241m.\u001b[39mpredict(X_submission_select)\n\u001b[1;32m      3\u001b[0m submission \u001b[38;5;241m=\u001b[39m X_submission[[\u001b[38;5;124m'\u001b[39m\u001b[38;5;124mId\u001b[39m\u001b[38;5;124m'\u001b[39m, \u001b[38;5;124m'\u001b[39m\u001b[38;5;124mScore\u001b[39m\u001b[38;5;124m'\u001b[39m]]\n\u001b[1;32m      4\u001b[0m submission\u001b[38;5;241m.\u001b[39mto_csv(\u001b[38;5;124m\"\u001b[39m\u001b[38;5;124m./data/submission.csv\u001b[39m\u001b[38;5;124m\"\u001b[39m, index\u001b[38;5;241m=\u001b[39m\u001b[38;5;28;01mFalse\u001b[39;00m)\n",
      "\u001b[0;31mNameError\u001b[0m: name 'model' is not defined"
     ]
    }
   ],
   "source": [
    "# Create the submission file\n",
    "X_submission['Score'] = model.predict(X_submission_select)\n",
    "submission = X_submission[['Id', 'Score']]\n",
    "submission.to_csv(\"./data/submission.csv\", index=False)"
   ]
  }
 ],
 "metadata": {
  "kernelspec": {
   "display_name": "Python 3",
   "language": "python",
   "name": "python3"
  },
  "language_info": {
   "codemirror_mode": {
    "name": "ipython",
    "version": 3
   },
   "file_extension": ".py",
   "mimetype": "text/x-python",
   "name": "python",
   "nbconvert_exporter": "python",
   "pygments_lexer": "ipython3",
   "version": "3.11.1"
  }
 },
 "nbformat": 4,
 "nbformat_minor": 2
}
